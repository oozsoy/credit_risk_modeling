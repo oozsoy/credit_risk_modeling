{
 "cells": [
  {
   "cell_type": "code",
   "execution_count": 1,
   "metadata": {},
   "outputs": [],
   "source": [
    "import numpy as np\n",
    "import pandas as pd \n",
    "import matplotlib.pyplot as plt\n",
    "import os\n",
    "\n",
    "\n",
    "#For inline plotting \n",
    "%matplotlib inline                 \n",
    "%config InlineBackend.figure_format = 'svg'\n",
    "\n",
    "# set plot properties to seaborn globally\n",
    "plt.style.use(\"seaborn-v0_8-white\")"
   ]
  },
  {
   "cell_type": "markdown",
   "metadata": {},
   "source": [
    "-----\n",
    "### Importing, Exploring and Cleaninging the Data\n",
    "------"
   ]
  },
  {
   "cell_type": "markdown",
   "metadata": {},
   "source": [
    "Load the raw data `loan_data_2007_2014.csv` and make a copy"
   ]
  },
  {
   "cell_type": "code",
   "execution_count": 2,
   "metadata": {},
   "outputs": [],
   "source": [
    "current_dir = os.getcwd()\n",
    "raw_data_dir = current_dir + \"/raw_data\"\n",
    "\n",
    "consumer_loans_df_raw = pd.read_csv(raw_data_dir + '/loan_data_2007_2014.csv', low_memory = False)\n",
    "\n",
    "consumer_loans_df = consumer_loans_df_raw.copy()"
   ]
  },
  {
   "cell_type": "code",
   "execution_count": 3,
   "metadata": {},
   "outputs": [
    {
     "data": {
      "text/html": [
       "<div>\n",
       "<style scoped>\n",
       "    .dataframe tbody tr th:only-of-type {\n",
       "        vertical-align: middle;\n",
       "    }\n",
       "\n",
       "    .dataframe tbody tr th {\n",
       "        vertical-align: top;\n",
       "    }\n",
       "\n",
       "    .dataframe thead th {\n",
       "        text-align: right;\n",
       "    }\n",
       "</style>\n",
       "<table border=\"1\" class=\"dataframe\">\n",
       "  <thead>\n",
       "    <tr style=\"text-align: right;\">\n",
       "      <th></th>\n",
       "      <th>Unnamed: 0</th>\n",
       "      <th>id</th>\n",
       "      <th>member_id</th>\n",
       "      <th>loan_amnt</th>\n",
       "      <th>funded_amnt</th>\n",
       "      <th>funded_amnt_inv</th>\n",
       "      <th>term</th>\n",
       "      <th>int_rate</th>\n",
       "      <th>installment</th>\n",
       "      <th>grade</th>\n",
       "      <th>...</th>\n",
       "      <th>total_bal_il</th>\n",
       "      <th>il_util</th>\n",
       "      <th>open_rv_12m</th>\n",
       "      <th>open_rv_24m</th>\n",
       "      <th>max_bal_bc</th>\n",
       "      <th>all_util</th>\n",
       "      <th>total_rev_hi_lim</th>\n",
       "      <th>inq_fi</th>\n",
       "      <th>total_cu_tl</th>\n",
       "      <th>inq_last_12m</th>\n",
       "    </tr>\n",
       "  </thead>\n",
       "  <tbody>\n",
       "    <tr>\n",
       "      <th>0</th>\n",
       "      <td>0</td>\n",
       "      <td>1077501</td>\n",
       "      <td>1296599</td>\n",
       "      <td>5000</td>\n",
       "      <td>5000</td>\n",
       "      <td>4975.0</td>\n",
       "      <td>36 months</td>\n",
       "      <td>10.65</td>\n",
       "      <td>162.87</td>\n",
       "      <td>B</td>\n",
       "      <td>...</td>\n",
       "      <td>NaN</td>\n",
       "      <td>NaN</td>\n",
       "      <td>NaN</td>\n",
       "      <td>NaN</td>\n",
       "      <td>NaN</td>\n",
       "      <td>NaN</td>\n",
       "      <td>NaN</td>\n",
       "      <td>NaN</td>\n",
       "      <td>NaN</td>\n",
       "      <td>NaN</td>\n",
       "    </tr>\n",
       "    <tr>\n",
       "      <th>1</th>\n",
       "      <td>1</td>\n",
       "      <td>1077430</td>\n",
       "      <td>1314167</td>\n",
       "      <td>2500</td>\n",
       "      <td>2500</td>\n",
       "      <td>2500.0</td>\n",
       "      <td>60 months</td>\n",
       "      <td>15.27</td>\n",
       "      <td>59.83</td>\n",
       "      <td>C</td>\n",
       "      <td>...</td>\n",
       "      <td>NaN</td>\n",
       "      <td>NaN</td>\n",
       "      <td>NaN</td>\n",
       "      <td>NaN</td>\n",
       "      <td>NaN</td>\n",
       "      <td>NaN</td>\n",
       "      <td>NaN</td>\n",
       "      <td>NaN</td>\n",
       "      <td>NaN</td>\n",
       "      <td>NaN</td>\n",
       "    </tr>\n",
       "    <tr>\n",
       "      <th>2</th>\n",
       "      <td>2</td>\n",
       "      <td>1077175</td>\n",
       "      <td>1313524</td>\n",
       "      <td>2400</td>\n",
       "      <td>2400</td>\n",
       "      <td>2400.0</td>\n",
       "      <td>36 months</td>\n",
       "      <td>15.96</td>\n",
       "      <td>84.33</td>\n",
       "      <td>C</td>\n",
       "      <td>...</td>\n",
       "      <td>NaN</td>\n",
       "      <td>NaN</td>\n",
       "      <td>NaN</td>\n",
       "      <td>NaN</td>\n",
       "      <td>NaN</td>\n",
       "      <td>NaN</td>\n",
       "      <td>NaN</td>\n",
       "      <td>NaN</td>\n",
       "      <td>NaN</td>\n",
       "      <td>NaN</td>\n",
       "    </tr>\n",
       "    <tr>\n",
       "      <th>3</th>\n",
       "      <td>3</td>\n",
       "      <td>1076863</td>\n",
       "      <td>1277178</td>\n",
       "      <td>10000</td>\n",
       "      <td>10000</td>\n",
       "      <td>10000.0</td>\n",
       "      <td>36 months</td>\n",
       "      <td>13.49</td>\n",
       "      <td>339.31</td>\n",
       "      <td>C</td>\n",
       "      <td>...</td>\n",
       "      <td>NaN</td>\n",
       "      <td>NaN</td>\n",
       "      <td>NaN</td>\n",
       "      <td>NaN</td>\n",
       "      <td>NaN</td>\n",
       "      <td>NaN</td>\n",
       "      <td>NaN</td>\n",
       "      <td>NaN</td>\n",
       "      <td>NaN</td>\n",
       "      <td>NaN</td>\n",
       "    </tr>\n",
       "    <tr>\n",
       "      <th>4</th>\n",
       "      <td>4</td>\n",
       "      <td>1075358</td>\n",
       "      <td>1311748</td>\n",
       "      <td>3000</td>\n",
       "      <td>3000</td>\n",
       "      <td>3000.0</td>\n",
       "      <td>60 months</td>\n",
       "      <td>12.69</td>\n",
       "      <td>67.79</td>\n",
       "      <td>B</td>\n",
       "      <td>...</td>\n",
       "      <td>NaN</td>\n",
       "      <td>NaN</td>\n",
       "      <td>NaN</td>\n",
       "      <td>NaN</td>\n",
       "      <td>NaN</td>\n",
       "      <td>NaN</td>\n",
       "      <td>NaN</td>\n",
       "      <td>NaN</td>\n",
       "      <td>NaN</td>\n",
       "      <td>NaN</td>\n",
       "    </tr>\n",
       "  </tbody>\n",
       "</table>\n",
       "<p>5 rows × 75 columns</p>\n",
       "</div>"
      ],
      "text/plain": [
       "   Unnamed: 0       id  member_id  loan_amnt  funded_amnt  funded_amnt_inv  \\\n",
       "0           0  1077501    1296599       5000         5000           4975.0   \n",
       "1           1  1077430    1314167       2500         2500           2500.0   \n",
       "2           2  1077175    1313524       2400         2400           2400.0   \n",
       "3           3  1076863    1277178      10000        10000          10000.0   \n",
       "4           4  1075358    1311748       3000         3000           3000.0   \n",
       "\n",
       "         term  int_rate  installment grade  ... total_bal_il il_util  \\\n",
       "0   36 months     10.65       162.87     B  ...          NaN     NaN   \n",
       "1   60 months     15.27        59.83     C  ...          NaN     NaN   \n",
       "2   36 months     15.96        84.33     C  ...          NaN     NaN   \n",
       "3   36 months     13.49       339.31     C  ...          NaN     NaN   \n",
       "4   60 months     12.69        67.79     B  ...          NaN     NaN   \n",
       "\n",
       "  open_rv_12m open_rv_24m  max_bal_bc all_util total_rev_hi_lim inq_fi  \\\n",
       "0         NaN         NaN         NaN      NaN              NaN    NaN   \n",
       "1         NaN         NaN         NaN      NaN              NaN    NaN   \n",
       "2         NaN         NaN         NaN      NaN              NaN    NaN   \n",
       "3         NaN         NaN         NaN      NaN              NaN    NaN   \n",
       "4         NaN         NaN         NaN      NaN              NaN    NaN   \n",
       "\n",
       "  total_cu_tl inq_last_12m  \n",
       "0         NaN          NaN  \n",
       "1         NaN          NaN  \n",
       "2         NaN          NaN  \n",
       "3         NaN          NaN  \n",
       "4         NaN          NaN  \n",
       "\n",
       "[5 rows x 75 columns]"
      ]
     },
     "execution_count": 3,
     "metadata": {},
     "output_type": "execute_result"
    }
   ],
   "source": [
    "consumer_loans_df.head()"
   ]
  },
  {
   "cell_type": "markdown",
   "metadata": {},
   "source": [
    "Drop `Unnamed: 0`, `id` and `member_id` columns as they do not carry useful information for modeling."
   ]
  },
  {
   "cell_type": "code",
   "execution_count": 4,
   "metadata": {},
   "outputs": [],
   "source": [
    "consumer_loans_df.drop(columns=['Unnamed: 0','id','member_id'], inplace=True)"
   ]
  },
  {
   "cell_type": "markdown",
   "metadata": {},
   "source": [
    "Some columns are not shown, we need to change the default options in the pandas library"
   ]
  },
  {
   "cell_type": "code",
   "execution_count": 5,
   "metadata": {},
   "outputs": [
    {
     "data": {
      "text/html": [
       "<div>\n",
       "<style scoped>\n",
       "    .dataframe tbody tr th:only-of-type {\n",
       "        vertical-align: middle;\n",
       "    }\n",
       "\n",
       "    .dataframe tbody tr th {\n",
       "        vertical-align: top;\n",
       "    }\n",
       "\n",
       "    .dataframe thead th {\n",
       "        text-align: right;\n",
       "    }\n",
       "</style>\n",
       "<table border=\"1\" class=\"dataframe\">\n",
       "  <thead>\n",
       "    <tr style=\"text-align: right;\">\n",
       "      <th></th>\n",
       "      <th>loan_amnt</th>\n",
       "      <th>funded_amnt</th>\n",
       "      <th>funded_amnt_inv</th>\n",
       "      <th>term</th>\n",
       "      <th>int_rate</th>\n",
       "      <th>installment</th>\n",
       "      <th>grade</th>\n",
       "      <th>sub_grade</th>\n",
       "      <th>emp_title</th>\n",
       "      <th>emp_length</th>\n",
       "      <th>home_ownership</th>\n",
       "      <th>annual_inc</th>\n",
       "      <th>verification_status</th>\n",
       "      <th>issue_d</th>\n",
       "      <th>loan_status</th>\n",
       "      <th>pymnt_plan</th>\n",
       "      <th>url</th>\n",
       "      <th>desc</th>\n",
       "      <th>purpose</th>\n",
       "      <th>title</th>\n",
       "      <th>zip_code</th>\n",
       "      <th>addr_state</th>\n",
       "      <th>dti</th>\n",
       "      <th>delinq_2yrs</th>\n",
       "      <th>earliest_cr_line</th>\n",
       "      <th>inq_last_6mths</th>\n",
       "      <th>mths_since_last_delinq</th>\n",
       "      <th>mths_since_last_record</th>\n",
       "      <th>open_acc</th>\n",
       "      <th>pub_rec</th>\n",
       "      <th>revol_bal</th>\n",
       "      <th>revol_util</th>\n",
       "      <th>total_acc</th>\n",
       "      <th>initial_list_status</th>\n",
       "      <th>out_prncp</th>\n",
       "      <th>out_prncp_inv</th>\n",
       "      <th>total_pymnt</th>\n",
       "      <th>total_pymnt_inv</th>\n",
       "      <th>total_rec_prncp</th>\n",
       "      <th>total_rec_int</th>\n",
       "      <th>total_rec_late_fee</th>\n",
       "      <th>recoveries</th>\n",
       "      <th>collection_recovery_fee</th>\n",
       "      <th>last_pymnt_d</th>\n",
       "      <th>last_pymnt_amnt</th>\n",
       "      <th>next_pymnt_d</th>\n",
       "      <th>last_credit_pull_d</th>\n",
       "      <th>collections_12_mths_ex_med</th>\n",
       "      <th>mths_since_last_major_derog</th>\n",
       "      <th>policy_code</th>\n",
       "      <th>application_type</th>\n",
       "      <th>annual_inc_joint</th>\n",
       "      <th>dti_joint</th>\n",
       "      <th>verification_status_joint</th>\n",
       "      <th>acc_now_delinq</th>\n",
       "      <th>tot_coll_amt</th>\n",
       "      <th>tot_cur_bal</th>\n",
       "      <th>open_acc_6m</th>\n",
       "      <th>open_il_6m</th>\n",
       "      <th>open_il_12m</th>\n",
       "      <th>open_il_24m</th>\n",
       "      <th>mths_since_rcnt_il</th>\n",
       "      <th>total_bal_il</th>\n",
       "      <th>il_util</th>\n",
       "      <th>open_rv_12m</th>\n",
       "      <th>open_rv_24m</th>\n",
       "      <th>max_bal_bc</th>\n",
       "      <th>all_util</th>\n",
       "      <th>total_rev_hi_lim</th>\n",
       "      <th>inq_fi</th>\n",
       "      <th>total_cu_tl</th>\n",
       "      <th>inq_last_12m</th>\n",
       "    </tr>\n",
       "  </thead>\n",
       "  <tbody>\n",
       "    <tr>\n",
       "      <th>0</th>\n",
       "      <td>5000</td>\n",
       "      <td>5000</td>\n",
       "      <td>4975.0</td>\n",
       "      <td>36 months</td>\n",
       "      <td>10.65</td>\n",
       "      <td>162.87</td>\n",
       "      <td>B</td>\n",
       "      <td>B2</td>\n",
       "      <td>NaN</td>\n",
       "      <td>10+ years</td>\n",
       "      <td>RENT</td>\n",
       "      <td>24000.0</td>\n",
       "      <td>Verified</td>\n",
       "      <td>Dec-11</td>\n",
       "      <td>Fully Paid</td>\n",
       "      <td>n</td>\n",
       "      <td>https://www.lendingclub.com/browse/loanDetail....</td>\n",
       "      <td>Borrower added on 12/22/11 &gt; I need to upgra...</td>\n",
       "      <td>credit_card</td>\n",
       "      <td>Computer</td>\n",
       "      <td>860xx</td>\n",
       "      <td>AZ</td>\n",
       "      <td>27.65</td>\n",
       "      <td>0.0</td>\n",
       "      <td>Jan-85</td>\n",
       "      <td>1.0</td>\n",
       "      <td>NaN</td>\n",
       "      <td>NaN</td>\n",
       "      <td>3.0</td>\n",
       "      <td>0.0</td>\n",
       "      <td>13648</td>\n",
       "      <td>83.7</td>\n",
       "      <td>9.0</td>\n",
       "      <td>f</td>\n",
       "      <td>0.0</td>\n",
       "      <td>0.0</td>\n",
       "      <td>5861.071414</td>\n",
       "      <td>5831.78</td>\n",
       "      <td>5000.00</td>\n",
       "      <td>861.07</td>\n",
       "      <td>0.00</td>\n",
       "      <td>0.00</td>\n",
       "      <td>0.00</td>\n",
       "      <td>Jan-15</td>\n",
       "      <td>171.62</td>\n",
       "      <td>NaN</td>\n",
       "      <td>Jan-16</td>\n",
       "      <td>0.0</td>\n",
       "      <td>NaN</td>\n",
       "      <td>1</td>\n",
       "      <td>INDIVIDUAL</td>\n",
       "      <td>NaN</td>\n",
       "      <td>NaN</td>\n",
       "      <td>NaN</td>\n",
       "      <td>0.0</td>\n",
       "      <td>NaN</td>\n",
       "      <td>NaN</td>\n",
       "      <td>NaN</td>\n",
       "      <td>NaN</td>\n",
       "      <td>NaN</td>\n",
       "      <td>NaN</td>\n",
       "      <td>NaN</td>\n",
       "      <td>NaN</td>\n",
       "      <td>NaN</td>\n",
       "      <td>NaN</td>\n",
       "      <td>NaN</td>\n",
       "      <td>NaN</td>\n",
       "      <td>NaN</td>\n",
       "      <td>NaN</td>\n",
       "      <td>NaN</td>\n",
       "      <td>NaN</td>\n",
       "      <td>NaN</td>\n",
       "    </tr>\n",
       "    <tr>\n",
       "      <th>1</th>\n",
       "      <td>2500</td>\n",
       "      <td>2500</td>\n",
       "      <td>2500.0</td>\n",
       "      <td>60 months</td>\n",
       "      <td>15.27</td>\n",
       "      <td>59.83</td>\n",
       "      <td>C</td>\n",
       "      <td>C4</td>\n",
       "      <td>Ryder</td>\n",
       "      <td>&lt; 1 year</td>\n",
       "      <td>RENT</td>\n",
       "      <td>30000.0</td>\n",
       "      <td>Source Verified</td>\n",
       "      <td>Dec-11</td>\n",
       "      <td>Charged Off</td>\n",
       "      <td>n</td>\n",
       "      <td>https://www.lendingclub.com/browse/loanDetail....</td>\n",
       "      <td>Borrower added on 12/22/11 &gt; I plan to use t...</td>\n",
       "      <td>car</td>\n",
       "      <td>bike</td>\n",
       "      <td>309xx</td>\n",
       "      <td>GA</td>\n",
       "      <td>1.00</td>\n",
       "      <td>0.0</td>\n",
       "      <td>Apr-99</td>\n",
       "      <td>5.0</td>\n",
       "      <td>NaN</td>\n",
       "      <td>NaN</td>\n",
       "      <td>3.0</td>\n",
       "      <td>0.0</td>\n",
       "      <td>1687</td>\n",
       "      <td>9.4</td>\n",
       "      <td>4.0</td>\n",
       "      <td>f</td>\n",
       "      <td>0.0</td>\n",
       "      <td>0.0</td>\n",
       "      <td>1008.710000</td>\n",
       "      <td>1008.71</td>\n",
       "      <td>456.46</td>\n",
       "      <td>435.17</td>\n",
       "      <td>0.00</td>\n",
       "      <td>117.08</td>\n",
       "      <td>1.11</td>\n",
       "      <td>Apr-13</td>\n",
       "      <td>119.66</td>\n",
       "      <td>NaN</td>\n",
       "      <td>Sep-13</td>\n",
       "      <td>0.0</td>\n",
       "      <td>NaN</td>\n",
       "      <td>1</td>\n",
       "      <td>INDIVIDUAL</td>\n",
       "      <td>NaN</td>\n",
       "      <td>NaN</td>\n",
       "      <td>NaN</td>\n",
       "      <td>0.0</td>\n",
       "      <td>NaN</td>\n",
       "      <td>NaN</td>\n",
       "      <td>NaN</td>\n",
       "      <td>NaN</td>\n",
       "      <td>NaN</td>\n",
       "      <td>NaN</td>\n",
       "      <td>NaN</td>\n",
       "      <td>NaN</td>\n",
       "      <td>NaN</td>\n",
       "      <td>NaN</td>\n",
       "      <td>NaN</td>\n",
       "      <td>NaN</td>\n",
       "      <td>NaN</td>\n",
       "      <td>NaN</td>\n",
       "      <td>NaN</td>\n",
       "      <td>NaN</td>\n",
       "      <td>NaN</td>\n",
       "    </tr>\n",
       "    <tr>\n",
       "      <th>2</th>\n",
       "      <td>2400</td>\n",
       "      <td>2400</td>\n",
       "      <td>2400.0</td>\n",
       "      <td>36 months</td>\n",
       "      <td>15.96</td>\n",
       "      <td>84.33</td>\n",
       "      <td>C</td>\n",
       "      <td>C5</td>\n",
       "      <td>NaN</td>\n",
       "      <td>10+ years</td>\n",
       "      <td>RENT</td>\n",
       "      <td>12252.0</td>\n",
       "      <td>Not Verified</td>\n",
       "      <td>Dec-11</td>\n",
       "      <td>Fully Paid</td>\n",
       "      <td>n</td>\n",
       "      <td>https://www.lendingclub.com/browse/loanDetail....</td>\n",
       "      <td>NaN</td>\n",
       "      <td>small_business</td>\n",
       "      <td>real estate business</td>\n",
       "      <td>606xx</td>\n",
       "      <td>IL</td>\n",
       "      <td>8.72</td>\n",
       "      <td>0.0</td>\n",
       "      <td>Nov-01</td>\n",
       "      <td>2.0</td>\n",
       "      <td>NaN</td>\n",
       "      <td>NaN</td>\n",
       "      <td>2.0</td>\n",
       "      <td>0.0</td>\n",
       "      <td>2956</td>\n",
       "      <td>98.5</td>\n",
       "      <td>10.0</td>\n",
       "      <td>f</td>\n",
       "      <td>0.0</td>\n",
       "      <td>0.0</td>\n",
       "      <td>3003.653644</td>\n",
       "      <td>3003.65</td>\n",
       "      <td>2400.00</td>\n",
       "      <td>603.65</td>\n",
       "      <td>0.00</td>\n",
       "      <td>0.00</td>\n",
       "      <td>0.00</td>\n",
       "      <td>Jun-14</td>\n",
       "      <td>649.91</td>\n",
       "      <td>NaN</td>\n",
       "      <td>Jan-16</td>\n",
       "      <td>0.0</td>\n",
       "      <td>NaN</td>\n",
       "      <td>1</td>\n",
       "      <td>INDIVIDUAL</td>\n",
       "      <td>NaN</td>\n",
       "      <td>NaN</td>\n",
       "      <td>NaN</td>\n",
       "      <td>0.0</td>\n",
       "      <td>NaN</td>\n",
       "      <td>NaN</td>\n",
       "      <td>NaN</td>\n",
       "      <td>NaN</td>\n",
       "      <td>NaN</td>\n",
       "      <td>NaN</td>\n",
       "      <td>NaN</td>\n",
       "      <td>NaN</td>\n",
       "      <td>NaN</td>\n",
       "      <td>NaN</td>\n",
       "      <td>NaN</td>\n",
       "      <td>NaN</td>\n",
       "      <td>NaN</td>\n",
       "      <td>NaN</td>\n",
       "      <td>NaN</td>\n",
       "      <td>NaN</td>\n",
       "      <td>NaN</td>\n",
       "    </tr>\n",
       "    <tr>\n",
       "      <th>3</th>\n",
       "      <td>10000</td>\n",
       "      <td>10000</td>\n",
       "      <td>10000.0</td>\n",
       "      <td>36 months</td>\n",
       "      <td>13.49</td>\n",
       "      <td>339.31</td>\n",
       "      <td>C</td>\n",
       "      <td>C1</td>\n",
       "      <td>AIR RESOURCES BOARD</td>\n",
       "      <td>10+ years</td>\n",
       "      <td>RENT</td>\n",
       "      <td>49200.0</td>\n",
       "      <td>Source Verified</td>\n",
       "      <td>Dec-11</td>\n",
       "      <td>Fully Paid</td>\n",
       "      <td>n</td>\n",
       "      <td>https://www.lendingclub.com/browse/loanDetail....</td>\n",
       "      <td>Borrower added on 12/21/11 &gt; to pay for prop...</td>\n",
       "      <td>other</td>\n",
       "      <td>personel</td>\n",
       "      <td>917xx</td>\n",
       "      <td>CA</td>\n",
       "      <td>20.00</td>\n",
       "      <td>0.0</td>\n",
       "      <td>Feb-96</td>\n",
       "      <td>1.0</td>\n",
       "      <td>35.0</td>\n",
       "      <td>NaN</td>\n",
       "      <td>10.0</td>\n",
       "      <td>0.0</td>\n",
       "      <td>5598</td>\n",
       "      <td>21.0</td>\n",
       "      <td>37.0</td>\n",
       "      <td>f</td>\n",
       "      <td>0.0</td>\n",
       "      <td>0.0</td>\n",
       "      <td>12226.302210</td>\n",
       "      <td>12226.30</td>\n",
       "      <td>10000.00</td>\n",
       "      <td>2209.33</td>\n",
       "      <td>16.97</td>\n",
       "      <td>0.00</td>\n",
       "      <td>0.00</td>\n",
       "      <td>Jan-15</td>\n",
       "      <td>357.48</td>\n",
       "      <td>NaN</td>\n",
       "      <td>Jan-15</td>\n",
       "      <td>0.0</td>\n",
       "      <td>NaN</td>\n",
       "      <td>1</td>\n",
       "      <td>INDIVIDUAL</td>\n",
       "      <td>NaN</td>\n",
       "      <td>NaN</td>\n",
       "      <td>NaN</td>\n",
       "      <td>0.0</td>\n",
       "      <td>NaN</td>\n",
       "      <td>NaN</td>\n",
       "      <td>NaN</td>\n",
       "      <td>NaN</td>\n",
       "      <td>NaN</td>\n",
       "      <td>NaN</td>\n",
       "      <td>NaN</td>\n",
       "      <td>NaN</td>\n",
       "      <td>NaN</td>\n",
       "      <td>NaN</td>\n",
       "      <td>NaN</td>\n",
       "      <td>NaN</td>\n",
       "      <td>NaN</td>\n",
       "      <td>NaN</td>\n",
       "      <td>NaN</td>\n",
       "      <td>NaN</td>\n",
       "      <td>NaN</td>\n",
       "    </tr>\n",
       "    <tr>\n",
       "      <th>4</th>\n",
       "      <td>3000</td>\n",
       "      <td>3000</td>\n",
       "      <td>3000.0</td>\n",
       "      <td>60 months</td>\n",
       "      <td>12.69</td>\n",
       "      <td>67.79</td>\n",
       "      <td>B</td>\n",
       "      <td>B5</td>\n",
       "      <td>University Medical Group</td>\n",
       "      <td>1 year</td>\n",
       "      <td>RENT</td>\n",
       "      <td>80000.0</td>\n",
       "      <td>Source Verified</td>\n",
       "      <td>Dec-11</td>\n",
       "      <td>Current</td>\n",
       "      <td>n</td>\n",
       "      <td>https://www.lendingclub.com/browse/loanDetail....</td>\n",
       "      <td>Borrower added on 12/21/11 &gt; I plan on combi...</td>\n",
       "      <td>other</td>\n",
       "      <td>Personal</td>\n",
       "      <td>972xx</td>\n",
       "      <td>OR</td>\n",
       "      <td>17.94</td>\n",
       "      <td>0.0</td>\n",
       "      <td>Jan-96</td>\n",
       "      <td>0.0</td>\n",
       "      <td>38.0</td>\n",
       "      <td>NaN</td>\n",
       "      <td>15.0</td>\n",
       "      <td>0.0</td>\n",
       "      <td>27783</td>\n",
       "      <td>53.9</td>\n",
       "      <td>38.0</td>\n",
       "      <td>f</td>\n",
       "      <td>766.9</td>\n",
       "      <td>766.9</td>\n",
       "      <td>3242.170000</td>\n",
       "      <td>3242.17</td>\n",
       "      <td>2233.10</td>\n",
       "      <td>1009.07</td>\n",
       "      <td>0.00</td>\n",
       "      <td>0.00</td>\n",
       "      <td>0.00</td>\n",
       "      <td>Jan-16</td>\n",
       "      <td>67.79</td>\n",
       "      <td>Feb-16</td>\n",
       "      <td>Jan-16</td>\n",
       "      <td>0.0</td>\n",
       "      <td>NaN</td>\n",
       "      <td>1</td>\n",
       "      <td>INDIVIDUAL</td>\n",
       "      <td>NaN</td>\n",
       "      <td>NaN</td>\n",
       "      <td>NaN</td>\n",
       "      <td>0.0</td>\n",
       "      <td>NaN</td>\n",
       "      <td>NaN</td>\n",
       "      <td>NaN</td>\n",
       "      <td>NaN</td>\n",
       "      <td>NaN</td>\n",
       "      <td>NaN</td>\n",
       "      <td>NaN</td>\n",
       "      <td>NaN</td>\n",
       "      <td>NaN</td>\n",
       "      <td>NaN</td>\n",
       "      <td>NaN</td>\n",
       "      <td>NaN</td>\n",
       "      <td>NaN</td>\n",
       "      <td>NaN</td>\n",
       "      <td>NaN</td>\n",
       "      <td>NaN</td>\n",
       "      <td>NaN</td>\n",
       "    </tr>\n",
       "  </tbody>\n",
       "</table>\n",
       "</div>"
      ],
      "text/plain": [
       "   loan_amnt  funded_amnt  funded_amnt_inv        term  int_rate  installment  \\\n",
       "0       5000         5000           4975.0   36 months     10.65       162.87   \n",
       "1       2500         2500           2500.0   60 months     15.27        59.83   \n",
       "2       2400         2400           2400.0   36 months     15.96        84.33   \n",
       "3      10000        10000          10000.0   36 months     13.49       339.31   \n",
       "4       3000         3000           3000.0   60 months     12.69        67.79   \n",
       "\n",
       "  grade sub_grade                 emp_title emp_length home_ownership  \\\n",
       "0     B        B2                       NaN  10+ years           RENT   \n",
       "1     C        C4                     Ryder   < 1 year           RENT   \n",
       "2     C        C5                       NaN  10+ years           RENT   \n",
       "3     C        C1       AIR RESOURCES BOARD  10+ years           RENT   \n",
       "4     B        B5  University Medical Group     1 year           RENT   \n",
       "\n",
       "   annual_inc verification_status issue_d  loan_status pymnt_plan  \\\n",
       "0     24000.0            Verified  Dec-11   Fully Paid          n   \n",
       "1     30000.0     Source Verified  Dec-11  Charged Off          n   \n",
       "2     12252.0        Not Verified  Dec-11   Fully Paid          n   \n",
       "3     49200.0     Source Verified  Dec-11   Fully Paid          n   \n",
       "4     80000.0     Source Verified  Dec-11      Current          n   \n",
       "\n",
       "                                                 url  \\\n",
       "0  https://www.lendingclub.com/browse/loanDetail....   \n",
       "1  https://www.lendingclub.com/browse/loanDetail....   \n",
       "2  https://www.lendingclub.com/browse/loanDetail....   \n",
       "3  https://www.lendingclub.com/browse/loanDetail....   \n",
       "4  https://www.lendingclub.com/browse/loanDetail....   \n",
       "\n",
       "                                                desc         purpose  \\\n",
       "0    Borrower added on 12/22/11 > I need to upgra...     credit_card   \n",
       "1    Borrower added on 12/22/11 > I plan to use t...             car   \n",
       "2                                                NaN  small_business   \n",
       "3    Borrower added on 12/21/11 > to pay for prop...           other   \n",
       "4    Borrower added on 12/21/11 > I plan on combi...           other   \n",
       "\n",
       "                  title zip_code addr_state    dti  delinq_2yrs  \\\n",
       "0              Computer    860xx         AZ  27.65          0.0   \n",
       "1                  bike    309xx         GA   1.00          0.0   \n",
       "2  real estate business    606xx         IL   8.72          0.0   \n",
       "3              personel    917xx         CA  20.00          0.0   \n",
       "4              Personal    972xx         OR  17.94          0.0   \n",
       "\n",
       "  earliest_cr_line  inq_last_6mths  mths_since_last_delinq  \\\n",
       "0           Jan-85             1.0                     NaN   \n",
       "1           Apr-99             5.0                     NaN   \n",
       "2           Nov-01             2.0                     NaN   \n",
       "3           Feb-96             1.0                    35.0   \n",
       "4           Jan-96             0.0                    38.0   \n",
       "\n",
       "   mths_since_last_record  open_acc  pub_rec  revol_bal  revol_util  \\\n",
       "0                     NaN       3.0      0.0      13648        83.7   \n",
       "1                     NaN       3.0      0.0       1687         9.4   \n",
       "2                     NaN       2.0      0.0       2956        98.5   \n",
       "3                     NaN      10.0      0.0       5598        21.0   \n",
       "4                     NaN      15.0      0.0      27783        53.9   \n",
       "\n",
       "   total_acc initial_list_status  out_prncp  out_prncp_inv   total_pymnt  \\\n",
       "0        9.0                   f        0.0            0.0   5861.071414   \n",
       "1        4.0                   f        0.0            0.0   1008.710000   \n",
       "2       10.0                   f        0.0            0.0   3003.653644   \n",
       "3       37.0                   f        0.0            0.0  12226.302210   \n",
       "4       38.0                   f      766.9          766.9   3242.170000   \n",
       "\n",
       "   total_pymnt_inv  total_rec_prncp  total_rec_int  total_rec_late_fee  \\\n",
       "0          5831.78          5000.00         861.07                0.00   \n",
       "1          1008.71           456.46         435.17                0.00   \n",
       "2          3003.65          2400.00         603.65                0.00   \n",
       "3         12226.30         10000.00        2209.33               16.97   \n",
       "4          3242.17          2233.10        1009.07                0.00   \n",
       "\n",
       "   recoveries  collection_recovery_fee last_pymnt_d  last_pymnt_amnt  \\\n",
       "0        0.00                     0.00       Jan-15           171.62   \n",
       "1      117.08                     1.11       Apr-13           119.66   \n",
       "2        0.00                     0.00       Jun-14           649.91   \n",
       "3        0.00                     0.00       Jan-15           357.48   \n",
       "4        0.00                     0.00       Jan-16            67.79   \n",
       "\n",
       "  next_pymnt_d last_credit_pull_d  collections_12_mths_ex_med  \\\n",
       "0          NaN             Jan-16                         0.0   \n",
       "1          NaN             Sep-13                         0.0   \n",
       "2          NaN             Jan-16                         0.0   \n",
       "3          NaN             Jan-15                         0.0   \n",
       "4       Feb-16             Jan-16                         0.0   \n",
       "\n",
       "   mths_since_last_major_derog  policy_code application_type  \\\n",
       "0                          NaN            1       INDIVIDUAL   \n",
       "1                          NaN            1       INDIVIDUAL   \n",
       "2                          NaN            1       INDIVIDUAL   \n",
       "3                          NaN            1       INDIVIDUAL   \n",
       "4                          NaN            1       INDIVIDUAL   \n",
       "\n",
       "   annual_inc_joint  dti_joint  verification_status_joint  acc_now_delinq  \\\n",
       "0               NaN        NaN                        NaN             0.0   \n",
       "1               NaN        NaN                        NaN             0.0   \n",
       "2               NaN        NaN                        NaN             0.0   \n",
       "3               NaN        NaN                        NaN             0.0   \n",
       "4               NaN        NaN                        NaN             0.0   \n",
       "\n",
       "   tot_coll_amt  tot_cur_bal  open_acc_6m  open_il_6m  open_il_12m  \\\n",
       "0           NaN          NaN          NaN         NaN          NaN   \n",
       "1           NaN          NaN          NaN         NaN          NaN   \n",
       "2           NaN          NaN          NaN         NaN          NaN   \n",
       "3           NaN          NaN          NaN         NaN          NaN   \n",
       "4           NaN          NaN          NaN         NaN          NaN   \n",
       "\n",
       "   open_il_24m  mths_since_rcnt_il  total_bal_il  il_util  open_rv_12m  \\\n",
       "0          NaN                 NaN           NaN      NaN          NaN   \n",
       "1          NaN                 NaN           NaN      NaN          NaN   \n",
       "2          NaN                 NaN           NaN      NaN          NaN   \n",
       "3          NaN                 NaN           NaN      NaN          NaN   \n",
       "4          NaN                 NaN           NaN      NaN          NaN   \n",
       "\n",
       "   open_rv_24m  max_bal_bc  all_util  total_rev_hi_lim  inq_fi  total_cu_tl  \\\n",
       "0          NaN         NaN       NaN               NaN     NaN          NaN   \n",
       "1          NaN         NaN       NaN               NaN     NaN          NaN   \n",
       "2          NaN         NaN       NaN               NaN     NaN          NaN   \n",
       "3          NaN         NaN       NaN               NaN     NaN          NaN   \n",
       "4          NaN         NaN       NaN               NaN     NaN          NaN   \n",
       "\n",
       "   inq_last_12m  \n",
       "0           NaN  \n",
       "1           NaN  \n",
       "2           NaN  \n",
       "3           NaN  \n",
       "4           NaN  "
      ]
     },
     "execution_count": 5,
     "metadata": {},
     "output_type": "execute_result"
    }
   ],
   "source": [
    "pd.options.display.max_columns = None\n",
    "\n",
    "consumer_loans_df.head()"
   ]
  },
  {
   "cell_type": "code",
   "execution_count": 6,
   "metadata": {},
   "outputs": [
    {
     "name": "stdout",
     "output_type": "stream",
     "text": [
      "Total number of columns 72\n"
     ]
    }
   ],
   "source": [
    "print(f\"Total number of columns {len(consumer_loans_df.columns.values)}\")"
   ]
  },
  {
   "cell_type": "markdown",
   "metadata": {},
   "source": [
    "- Next, we explore the attributes in the data more closely and clean/impute when necessary\n"
   ]
  },
  {
   "cell_type": "code",
   "execution_count": 7,
   "metadata": {},
   "outputs": [
    {
     "data": {
      "text/plain": [
       "array(['loan_amnt', 'funded_amnt', 'funded_amnt_inv', 'term', 'int_rate',\n",
       "       'installment', 'grade', 'sub_grade', 'emp_title', 'emp_length',\n",
       "       'home_ownership', 'annual_inc', 'verification_status', 'issue_d',\n",
       "       'loan_status', 'pymnt_plan', 'url', 'desc', 'purpose', 'title',\n",
       "       'zip_code', 'addr_state', 'dti', 'delinq_2yrs', 'earliest_cr_line',\n",
       "       'inq_last_6mths', 'mths_since_last_delinq',\n",
       "       'mths_since_last_record', 'open_acc', 'pub_rec', 'revol_bal',\n",
       "       'revol_util', 'total_acc', 'initial_list_status', 'out_prncp',\n",
       "       'out_prncp_inv', 'total_pymnt', 'total_pymnt_inv',\n",
       "       'total_rec_prncp', 'total_rec_int', 'total_rec_late_fee',\n",
       "       'recoveries', 'collection_recovery_fee', 'last_pymnt_d',\n",
       "       'last_pymnt_amnt', 'next_pymnt_d', 'last_credit_pull_d',\n",
       "       'collections_12_mths_ex_med', 'mths_since_last_major_derog',\n",
       "       'policy_code', 'application_type', 'annual_inc_joint', 'dti_joint',\n",
       "       'verification_status_joint', 'acc_now_delinq', 'tot_coll_amt',\n",
       "       'tot_cur_bal', 'open_acc_6m', 'open_il_6m', 'open_il_12m',\n",
       "       'open_il_24m', 'mths_since_rcnt_il', 'total_bal_il', 'il_util',\n",
       "       'open_rv_12m', 'open_rv_24m', 'max_bal_bc', 'all_util',\n",
       "       'total_rev_hi_lim', 'inq_fi', 'total_cu_tl', 'inq_last_12m'],\n",
       "      dtype=object)"
      ]
     },
     "execution_count": 7,
     "metadata": {},
     "output_type": "execute_result"
    }
   ],
   "source": [
    "consumer_loans_df.columns.values"
   ]
  },
  {
   "cell_type": "markdown",
   "metadata": {},
   "source": [
    "Import the description xlsx file for the columns"
   ]
  },
  {
   "cell_type": "code",
   "execution_count": 8,
   "metadata": {},
   "outputs": [
    {
     "name": "stdout",
     "output_type": "stream",
     "text": [
      "['LoanStats', 'browseNotes', 'RejectStats']\n"
     ]
    }
   ],
   "source": [
    "# the xlsx file that has the data description have 3 sheets\n",
    "\n",
    "data_desc_xlsx = pd.ExcelFile(raw_data_dir + '/LCDataDictionary.xlsx')\n",
    "print(data_desc_xlsx.sheet_names)  # See available sheets"
   ]
  },
  {
   "cell_type": "code",
   "execution_count": 9,
   "metadata": {},
   "outputs": [],
   "source": [
    "import warnings\n",
    "warnings.filterwarnings(\"ignore\", category=UserWarning, module=\"openpyxl\")\n",
    "\n",
    "# descriptions of the data columns are in the 'LoanStats' sheet\n",
    "consumer_loan_data_desc = data_desc_xlsx.parse('LoanStats')"
   ]
  },
  {
   "cell_type": "code",
   "execution_count": 10,
   "metadata": {},
   "outputs": [
    {
     "data": {
      "text/plain": [
       "array(['acc_now_delinq', 'addr_state', 'all_util', 'annual_inc',\n",
       "       'annual_inc_joint', 'application_type', 'collection_recovery_fee',\n",
       "       'collections_12_mths_ex_med', 'delinq_2yrs', 'desc', 'dti',\n",
       "       'dti_joint', 'earliest_cr_line', 'emp_length', 'emp_title',\n",
       "       'fico_range_high', 'fico_range_low', 'funded_amnt',\n",
       "       'funded_amnt_inv', 'grade', 'home_ownership', 'id', 'il_util',\n",
       "       'initial_list_status', 'inq_fi', 'inq_last_12m', 'inq_last_6mths',\n",
       "       'installment', 'int_rate', 'is_inc_v', 'issue_d',\n",
       "       'last_credit_pull_d', 'last_fico_range_high',\n",
       "       'last_fico_range_low', 'last_pymnt_amnt', 'last_pymnt_d',\n",
       "       'loan_amnt', 'loan_status', 'max_bal_bc', 'member_id',\n",
       "       'mths_since_last_delinq', 'mths_since_last_major_derog',\n",
       "       'mths_since_last_record', 'mths_since_rcnt_il', 'next_pymnt_d',\n",
       "       'open_acc', 'open_acc_6m', 'open_il_12m', 'open_il_24m',\n",
       "       'open_il_6m', 'open_rv_12m', 'open_rv_24m', 'out_prncp',\n",
       "       'out_prncp_inv', 'policy_code', 'pub_rec', 'purpose', 'pymnt_plan',\n",
       "       'recoveries', 'revol_bal', 'revol_util', 'sub_grade', 'term',\n",
       "       'title', 'tot_coll_amt', 'tot_cur_bal', 'total_acc',\n",
       "       'total_bal_il', 'total_cu_tl', 'total_pymnt', 'total_pymnt_inv',\n",
       "       'total_rec_int', 'total_rec_late_fee', 'total_rec_prncp',\n",
       "       'total_rev_hi_lim \\xa0', 'url', 'verified_status_joint',\n",
       "       'zip_code'], dtype=object)"
      ]
     },
     "execution_count": 10,
     "metadata": {},
     "output_type": "execute_result"
    }
   ],
   "source": [
    "# drop unnecessary rows and columns that does not have a description in the description df\n",
    "consumer_loan_data_desc.dropna(inplace = True)\n",
    "\n",
    "consumer_loan_data_desc.LoanStatNew.values"
   ]
  },
  {
   "cell_type": "code",
   "execution_count": 11,
   "metadata": {},
   "outputs": [],
   "source": [
    "# replace a weird looking one: total_rev_hi_lim \\xa0\n",
    "\n",
    "consumer_loan_data_desc.LoanStatNew = consumer_loan_data_desc.LoanStatNew.str.replace(r'\\s+', '', regex=True)"
   ]
  },
  {
   "cell_type": "code",
   "execution_count": 12,
   "metadata": {},
   "outputs": [
    {
     "data": {
      "text/plain": [
       "array(['acc_now_delinq', 'addr_state', 'all_util', 'annual_inc',\n",
       "       'annual_inc_joint', 'application_type', 'collection_recovery_fee',\n",
       "       'collections_12_mths_ex_med', 'delinq_2yrs', 'desc', 'dti',\n",
       "       'dti_joint', 'earliest_cr_line', 'emp_length', 'emp_title',\n",
       "       'fico_range_high', 'fico_range_low', 'funded_amnt',\n",
       "       'funded_amnt_inv', 'grade', 'home_ownership', 'id', 'il_util',\n",
       "       'initial_list_status', 'inq_fi', 'inq_last_12m', 'inq_last_6mths',\n",
       "       'installment', 'int_rate', 'is_inc_v', 'issue_d',\n",
       "       'last_credit_pull_d', 'last_fico_range_high',\n",
       "       'last_fico_range_low', 'last_pymnt_amnt', 'last_pymnt_d',\n",
       "       'loan_amnt', 'loan_status', 'max_bal_bc', 'member_id',\n",
       "       'mths_since_last_delinq', 'mths_since_last_major_derog',\n",
       "       'mths_since_last_record', 'mths_since_rcnt_il', 'next_pymnt_d',\n",
       "       'open_acc', 'open_acc_6m', 'open_il_12m', 'open_il_24m',\n",
       "       'open_il_6m', 'open_rv_12m', 'open_rv_24m', 'out_prncp',\n",
       "       'out_prncp_inv', 'policy_code', 'pub_rec', 'purpose', 'pymnt_plan',\n",
       "       'recoveries', 'revol_bal', 'revol_util', 'sub_grade', 'term',\n",
       "       'title', 'tot_coll_amt', 'tot_cur_bal', 'total_acc',\n",
       "       'total_bal_il', 'total_cu_tl', 'total_pymnt', 'total_pymnt_inv',\n",
       "       'total_rec_int', 'total_rec_late_fee', 'total_rec_prncp',\n",
       "       'total_rev_hi_lim', 'url', 'verified_status_joint', 'zip_code'],\n",
       "      dtype=object)"
      ]
     },
     "execution_count": 12,
     "metadata": {},
     "output_type": "execute_result"
    }
   ],
   "source": [
    "consumer_loan_data_desc.LoanStatNew.values"
   ]
  },
  {
   "cell_type": "code",
   "execution_count": 13,
   "metadata": {},
   "outputs": [],
   "source": [
    "# turn into a simple dictionary for easy access to column descriptions\n",
    "col_desc_dict = consumer_loan_data_desc.set_index('LoanStatNew')['Description'].to_dict()"
   ]
  },
  {
   "cell_type": "code",
   "execution_count": 14,
   "metadata": {},
   "outputs": [
    {
     "name": "stdout",
     "output_type": "stream",
     "text": [
      "Columns with only one unique value:\n",
      "['policy_code', 'application_type']\n"
     ]
    }
   ],
   "source": [
    "# check columns in loan data that only has one unique value, they can not be used as a predictor\n",
    "single_unique_cols = [col for col in consumer_loans_df.columns if consumer_loans_df[col].nunique() == 1]\n",
    "\n",
    "print(\"Columns with only one unique value:\")\n",
    "print(single_unique_cols)"
   ]
  },
  {
   "cell_type": "code",
   "execution_count": 15,
   "metadata": {},
   "outputs": [
    {
     "data": {
      "text/plain": [
       "(array([1]), array(['INDIVIDUAL'], dtype=object))"
      ]
     },
     "execution_count": 15,
     "metadata": {},
     "output_type": "execute_result"
    }
   ],
   "source": [
    "consumer_loans_df.policy_code.unique(), consumer_loans_df.application_type.unique()"
   ]
  },
  {
   "cell_type": "code",
   "execution_count": 16,
   "metadata": {},
   "outputs": [
    {
     "data": {
      "text/plain": [
       "'publicly available policy_code=1\\nnew products not publicly available policy_code=2'"
      ]
     },
     "execution_count": 16,
     "metadata": {},
     "output_type": "execute_result"
    }
   ],
   "source": [
    "col_desc_dict['policy_code']"
   ]
  },
  {
   "cell_type": "code",
   "execution_count": 17,
   "metadata": {},
   "outputs": [
    {
     "data": {
      "text/plain": [
       "'Indicates whether the loan is an individual application or a joint application with two co-borrowers'"
      ]
     },
     "execution_count": 17,
     "metadata": {},
     "output_type": "execute_result"
    }
   ],
   "source": [
    "col_desc_dict['application_type']"
   ]
  },
  {
   "cell_type": "code",
   "execution_count": 18,
   "metadata": {},
   "outputs": [],
   "source": [
    "# drop `policy_code` and `application_type`\n",
    "consumer_loans_df.drop(columns = ['policy_code', 'application_type'], inplace = True)"
   ]
  },
  {
   "cell_type": "code",
   "execution_count": 19,
   "metadata": {},
   "outputs": [],
   "source": [
    "# url and desc columns are also useless for model building\n",
    "consumer_loans_df.drop(columns = ['url', 'desc'], inplace = True)"
   ]
  },
  {
   "cell_type": "code",
   "execution_count": 20,
   "metadata": {},
   "outputs": [
    {
     "data": {
      "text/plain": [
       "68"
      ]
     },
     "execution_count": 20,
     "metadata": {},
     "output_type": "execute_result"
    }
   ],
   "source": [
    "len(consumer_loans_df.columns)"
   ]
  },
  {
   "cell_type": "markdown",
   "metadata": {},
   "source": [
    "We won't be using `zip_code` either as `addr_state` will be used to indicate the state of the borrower. In any case zip code is not a direct indicator of the borrowers' neighborhood, especially the first 3 numbers just indicate the postal center for mail which can be far away from the actual residence. "
   ]
  },
  {
   "cell_type": "code",
   "execution_count": 21,
   "metadata": {},
   "outputs": [],
   "source": [
    "consumer_loans_df.drop(columns = ['zip_code'], inplace = True)"
   ]
  },
  {
   "cell_type": "code",
   "execution_count": 22,
   "metadata": {},
   "outputs": [
    {
     "data": {
      "text/plain": [
       "loan_amnt                      0.000000\n",
       "funded_amnt                    0.000000\n",
       "funded_amnt_inv                0.000000\n",
       "term                           0.000000\n",
       "int_rate                       0.000000\n",
       "installment                    0.000000\n",
       "grade                          0.000000\n",
       "sub_grade                      0.000000\n",
       "emp_title                      0.059166\n",
       "emp_length                     0.045054\n",
       "home_ownership                 0.000000\n",
       "annual_inc                     0.000009\n",
       "verification_status            0.000000\n",
       "issue_d                        0.000000\n",
       "loan_status                    0.000000\n",
       "pymnt_plan                     0.000000\n",
       "purpose                        0.000000\n",
       "title                          0.000045\n",
       "addr_state                     0.000000\n",
       "dti                            0.000000\n",
       "delinq_2yrs                    0.000062\n",
       "earliest_cr_line               0.000062\n",
       "inq_last_6mths                 0.000062\n",
       "mths_since_last_delinq         0.536906\n",
       "mths_since_last_record         0.865666\n",
       "open_acc                       0.000062\n",
       "pub_rec                        0.000062\n",
       "revol_bal                      0.000000\n",
       "revol_util                     0.000729\n",
       "total_acc                      0.000062\n",
       "initial_list_status            0.000000\n",
       "out_prncp                      0.000000\n",
       "out_prncp_inv                  0.000000\n",
       "total_pymnt                    0.000000\n",
       "total_pymnt_inv                0.000000\n",
       "total_rec_prncp                0.000000\n",
       "total_rec_int                  0.000000\n",
       "total_rec_late_fee             0.000000\n",
       "recoveries                     0.000000\n",
       "collection_recovery_fee        0.000000\n",
       "last_pymnt_d                   0.000806\n",
       "last_pymnt_amnt                0.000000\n",
       "next_pymnt_d                   0.487286\n",
       "last_credit_pull_d             0.000090\n",
       "collections_12_mths_ex_med     0.000311\n",
       "mths_since_last_major_derog    0.787739\n",
       "annual_inc_joint               1.000000\n",
       "dti_joint                      1.000000\n",
       "verification_status_joint      1.000000\n",
       "acc_now_delinq                 0.000062\n",
       "tot_coll_amt                   0.150715\n",
       "tot_cur_bal                    0.150715\n",
       "open_acc_6m                    1.000000\n",
       "open_il_6m                     1.000000\n",
       "open_il_12m                    1.000000\n",
       "open_il_24m                    1.000000\n",
       "mths_since_rcnt_il             1.000000\n",
       "total_bal_il                   1.000000\n",
       "il_util                        1.000000\n",
       "open_rv_12m                    1.000000\n",
       "open_rv_24m                    1.000000\n",
       "max_bal_bc                     1.000000\n",
       "all_util                       1.000000\n",
       "total_rev_hi_lim               0.150715\n",
       "inq_fi                         1.000000\n",
       "total_cu_tl                    1.000000\n",
       "inq_last_12m                   1.000000\n",
       "dtype: float64"
      ]
     },
     "execution_count": 22,
     "metadata": {},
     "output_type": "execute_result"
    }
   ],
   "source": [
    "# explore columns with missing values\n",
    "pd.options.display.max_rows = None\n",
    "\n",
    "# ratio of missing values \n",
    "consumer_loans_df.isnull().sum()/ len(consumer_loans_df)"
   ]
  },
  {
   "cell_type": "markdown",
   "metadata": {},
   "source": [
    "Notice that there are many completely missing columns, some are not surprisingly have `_joint`, indicating an attribute for joint loan applications which is non-present in this data frame as the `application_type` was all individual. We first drop all columns that have all the values missing. "
   ]
  },
  {
   "cell_type": "code",
   "execution_count": 23,
   "metadata": {},
   "outputs": [
    {
     "data": {
      "text/plain": [
       "loan_amnt                      0.000000\n",
       "funded_amnt                    0.000000\n",
       "funded_amnt_inv                0.000000\n",
       "term                           0.000000\n",
       "int_rate                       0.000000\n",
       "installment                    0.000000\n",
       "grade                          0.000000\n",
       "sub_grade                      0.000000\n",
       "emp_title                      0.059166\n",
       "emp_length                     0.045054\n",
       "home_ownership                 0.000000\n",
       "annual_inc                     0.000009\n",
       "verification_status            0.000000\n",
       "issue_d                        0.000000\n",
       "loan_status                    0.000000\n",
       "pymnt_plan                     0.000000\n",
       "purpose                        0.000000\n",
       "title                          0.000045\n",
       "addr_state                     0.000000\n",
       "dti                            0.000000\n",
       "delinq_2yrs                    0.000062\n",
       "earliest_cr_line               0.000062\n",
       "inq_last_6mths                 0.000062\n",
       "mths_since_last_delinq         0.536906\n",
       "mths_since_last_record         0.865666\n",
       "open_acc                       0.000062\n",
       "pub_rec                        0.000062\n",
       "revol_bal                      0.000000\n",
       "revol_util                     0.000729\n",
       "total_acc                      0.000062\n",
       "initial_list_status            0.000000\n",
       "out_prncp                      0.000000\n",
       "out_prncp_inv                  0.000000\n",
       "total_pymnt                    0.000000\n",
       "total_pymnt_inv                0.000000\n",
       "total_rec_prncp                0.000000\n",
       "total_rec_int                  0.000000\n",
       "total_rec_late_fee             0.000000\n",
       "recoveries                     0.000000\n",
       "collection_recovery_fee        0.000000\n",
       "last_pymnt_d                   0.000806\n",
       "last_pymnt_amnt                0.000000\n",
       "next_pymnt_d                   0.487286\n",
       "last_credit_pull_d             0.000090\n",
       "collections_12_mths_ex_med     0.000311\n",
       "mths_since_last_major_derog    0.787739\n",
       "acc_now_delinq                 0.000062\n",
       "tot_coll_amt                   0.150715\n",
       "tot_cur_bal                    0.150715\n",
       "total_rev_hi_lim               0.150715\n",
       "dtype: float64"
      ]
     },
     "execution_count": 23,
     "metadata": {},
     "output_type": "execute_result"
    }
   ],
   "source": [
    "pd.options.display.max_rows = None\n",
    "\n",
    "fully_missing_cols = consumer_loans_df.isnull().sum()[consumer_loans_df.isnull().sum()/ len(consumer_loans_df) == 1].keys().to_list()\n",
    "\n",
    "consumer_loans_df.drop(columns = fully_missing_cols, inplace = True)\n",
    "\n",
    "consumer_loans_df.isnull().sum() / len(consumer_loans_df) \n"
   ]
  },
  {
   "cell_type": "markdown",
   "metadata": {},
   "source": [
    "There are still some columns that have significant portion of missing data. Let's identify them:"
   ]
  },
  {
   "cell_type": "code",
   "execution_count": 24,
   "metadata": {},
   "outputs": [
    {
     "data": {
      "text/plain": [
       "mths_since_last_delinq         0.536906\n",
       "mths_since_last_record         0.865666\n",
       "next_pymnt_d                   0.487286\n",
       "mths_since_last_major_derog    0.787739\n",
       "dtype: float64"
      ]
     },
     "execution_count": 24,
     "metadata": {},
     "output_type": "execute_result"
    }
   ],
   "source": [
    "(consumer_loans_df.isnull().sum()/ len(consumer_loans_df))[consumer_loans_df.isnull().sum()/ len(consumer_loans_df) > 0.4]"
   ]
  },
  {
   "cell_type": "code",
   "execution_count": 25,
   "metadata": {},
   "outputs": [
    {
     "name": "stdout",
     "output_type": "stream",
     "text": [
      "mths_since_last_delinq: The number of months since the borrower's last delinquency.\n",
      "mths_since_last_record: The number of months since the last public record.\n",
      "next_pymnt_d: Next scheduled payment date\n",
      "mths_since_last_major_derog: Months since most recent 90-day or worse rating\n"
     ]
    }
   ],
   "source": [
    "significant_missing_cols = ((consumer_loans_df.isnull().sum()/ len(consumer_loans_df))[consumer_loans_df.isnull().sum()/ len(consumer_loans_df) > 0.4]\n",
    "                            .keys().to_list())\n",
    "\n",
    "for col in significant_missing_cols:\n",
    "    \n",
    "    print(f\"{col}: {col_desc_dict[col]}\")"
   ]
  },
  {
   "cell_type": "markdown",
   "metadata": {},
   "source": [
    "For a static probability default model `next_pymnt_d` would cause data leakage as this variable is not known at the time of loan origination. We will drop it. \n",
    "\n",
    " - The other variables, `mths_since_last_delinq`, `mths_since_last_record` and `mths_since_last_major_derog` come from the borrower’s credit report obtained from a credit bureau at the time of loan application. LendingClub pulls this credit data from major U.S. credit bureaus: Equifax, Experian, TransUnion. This pull happens when the borrower applies for the loan. The credit report gives a snapshot of the borrower's credit history; e.g time passed since last delay for a loan (`mths_since_last_delinq`), the number of months since the borrower’s last public derogatory record (`mths_since_last_record`), such as: Bankruptcy, Tax lien, Civil judgment and the number of months since the borrower’s most recent major derogatory event (typically a 90+ day delinquency, charge-off, or serious delinquent trade) (`mths_since_last_major_derog`). \n",
    "- The missing values for these variables are actually not a problem — and in fact, it's very informative if we handle it correctly. Missing values here may imply good credit! This makes these missing values highly predictive — and we can even treat them as a separate category, by not just imputing blindly. This way the model can learn if a negative event ever happened as well as recency of the event which could provide additional information.\n"
   ]
  },
  {
   "cell_type": "code",
   "execution_count": 26,
   "metadata": {},
   "outputs": [
    {
     "data": {
      "text/plain": [
       "loan_amnt                      0.000000\n",
       "funded_amnt                    0.000000\n",
       "funded_amnt_inv                0.000000\n",
       "term                           0.000000\n",
       "int_rate                       0.000000\n",
       "installment                    0.000000\n",
       "grade                          0.000000\n",
       "sub_grade                      0.000000\n",
       "emp_title                      0.059166\n",
       "emp_length                     0.045054\n",
       "home_ownership                 0.000000\n",
       "annual_inc                     0.000009\n",
       "verification_status            0.000000\n",
       "issue_d                        0.000000\n",
       "loan_status                    0.000000\n",
       "pymnt_plan                     0.000000\n",
       "purpose                        0.000000\n",
       "title                          0.000045\n",
       "addr_state                     0.000000\n",
       "dti                            0.000000\n",
       "delinq_2yrs                    0.000062\n",
       "earliest_cr_line               0.000062\n",
       "inq_last_6mths                 0.000062\n",
       "mths_since_last_delinq         0.536906\n",
       "mths_since_last_record         0.865666\n",
       "open_acc                       0.000062\n",
       "pub_rec                        0.000062\n",
       "revol_bal                      0.000000\n",
       "revol_util                     0.000729\n",
       "total_acc                      0.000062\n",
       "initial_list_status            0.000000\n",
       "out_prncp                      0.000000\n",
       "out_prncp_inv                  0.000000\n",
       "total_pymnt                    0.000000\n",
       "total_pymnt_inv                0.000000\n",
       "total_rec_prncp                0.000000\n",
       "total_rec_int                  0.000000\n",
       "total_rec_late_fee             0.000000\n",
       "recoveries                     0.000000\n",
       "collection_recovery_fee        0.000000\n",
       "last_pymnt_d                   0.000806\n",
       "last_pymnt_amnt                0.000000\n",
       "last_credit_pull_d             0.000090\n",
       "collections_12_mths_ex_med     0.000311\n",
       "mths_since_last_major_derog    0.787739\n",
       "acc_now_delinq                 0.000062\n",
       "tot_coll_amt                   0.150715\n",
       "tot_cur_bal                    0.150715\n",
       "total_rev_hi_lim               0.150715\n",
       "dtype: float64"
      ]
     },
     "execution_count": 26,
     "metadata": {},
     "output_type": "execute_result"
    }
   ],
   "source": [
    "pd.options.display.max_rows = None\n",
    "\n",
    "# just drop next_pymnt_d\n",
    "consumer_loans_df.drop(columns = significant_missing_cols[2], inplace = True)\n",
    "\n",
    "consumer_loans_df.isnull().sum() / len(consumer_loans_df) "
   ]
  },
  {
   "cell_type": "markdown",
   "metadata": {},
   "source": [
    "Finally, object dtype `title` (loan title) and `emp_title` (employment title) columns do not contain useful qualitative/quantitative measure for the PD model. So we will drop them as well. "
   ]
  },
  {
   "cell_type": "code",
   "execution_count": 27,
   "metadata": {},
   "outputs": [
    {
     "data": {
      "text/plain": [
       "'The loan title provided by the borrower'"
      ]
     },
     "execution_count": 27,
     "metadata": {},
     "output_type": "execute_result"
    }
   ],
   "source": [
    "col_desc_dict['title']"
   ]
  },
  {
   "cell_type": "code",
   "execution_count": 28,
   "metadata": {},
   "outputs": [
    {
     "data": {
      "text/plain": [
       "63099"
      ]
     },
     "execution_count": 28,
     "metadata": {},
     "output_type": "execute_result"
    }
   ],
   "source": [
    "len(consumer_loans_df.title.unique())"
   ]
  },
  {
   "cell_type": "code",
   "execution_count": 29,
   "metadata": {},
   "outputs": [
    {
     "data": {
      "text/plain": [
       "'The job title supplied by the Borrower when applying for the loan.*'"
      ]
     },
     "execution_count": 29,
     "metadata": {},
     "output_type": "execute_result"
    }
   ],
   "source": [
    "col_desc_dict['emp_title']"
   ]
  },
  {
   "cell_type": "code",
   "execution_count": 30,
   "metadata": {},
   "outputs": [
    {
     "data": {
      "text/plain": [
       "205476"
      ]
     },
     "execution_count": 30,
     "metadata": {},
     "output_type": "execute_result"
    }
   ],
   "source": [
    "len(consumer_loans_df.emp_title.unique())"
   ]
  },
  {
   "cell_type": "code",
   "execution_count": 31,
   "metadata": {},
   "outputs": [
    {
     "data": {
      "text/plain": [
       "loan_amnt                      0.000000\n",
       "funded_amnt                    0.000000\n",
       "funded_amnt_inv                0.000000\n",
       "term                           0.000000\n",
       "int_rate                       0.000000\n",
       "installment                    0.000000\n",
       "grade                          0.000000\n",
       "sub_grade                      0.000000\n",
       "emp_length                     0.045054\n",
       "home_ownership                 0.000000\n",
       "annual_inc                     0.000009\n",
       "verification_status            0.000000\n",
       "issue_d                        0.000000\n",
       "loan_status                    0.000000\n",
       "pymnt_plan                     0.000000\n",
       "purpose                        0.000000\n",
       "addr_state                     0.000000\n",
       "dti                            0.000000\n",
       "delinq_2yrs                    0.000062\n",
       "earliest_cr_line               0.000062\n",
       "inq_last_6mths                 0.000062\n",
       "mths_since_last_delinq         0.536906\n",
       "mths_since_last_record         0.865666\n",
       "open_acc                       0.000062\n",
       "pub_rec                        0.000062\n",
       "revol_bal                      0.000000\n",
       "revol_util                     0.000729\n",
       "total_acc                      0.000062\n",
       "initial_list_status            0.000000\n",
       "out_prncp                      0.000000\n",
       "out_prncp_inv                  0.000000\n",
       "total_pymnt                    0.000000\n",
       "total_pymnt_inv                0.000000\n",
       "total_rec_prncp                0.000000\n",
       "total_rec_int                  0.000000\n",
       "total_rec_late_fee             0.000000\n",
       "recoveries                     0.000000\n",
       "collection_recovery_fee        0.000000\n",
       "last_pymnt_d                   0.000806\n",
       "last_pymnt_amnt                0.000000\n",
       "last_credit_pull_d             0.000090\n",
       "collections_12_mths_ex_med     0.000311\n",
       "mths_since_last_major_derog    0.787739\n",
       "acc_now_delinq                 0.000062\n",
       "tot_coll_amt                   0.150715\n",
       "tot_cur_bal                    0.150715\n",
       "total_rev_hi_lim               0.150715\n",
       "dtype: float64"
      ]
     },
     "execution_count": 31,
     "metadata": {},
     "output_type": "execute_result"
    }
   ],
   "source": [
    "consumer_loans_df.drop(columns = ['title', 'emp_title'], inplace = True)\n",
    "\n",
    "consumer_loans_df.isnull().sum() / len(consumer_loans_df) "
   ]
  },
  {
   "cell_type": "markdown",
   "metadata": {},
   "source": [
    "This leaves us with a cleaned loan data that can be further preprocessed for the probability of Default Model. "
   ]
  },
  {
   "cell_type": "code",
   "execution_count": 32,
   "metadata": {},
   "outputs": [
    {
     "name": "stdout",
     "output_type": "stream",
     "text": [
      "The number of columns in the cleaned loan data set: 47\n"
     ]
    }
   ],
   "source": [
    "print(f\"The number of columns in the cleaned loan data set: {len(consumer_loans_df.columns)}\")"
   ]
  },
  {
   "cell_type": "code",
   "execution_count": 33,
   "metadata": {},
   "outputs": [],
   "source": [
    "# save the cleaned data set to /processed_data\n",
    "\n",
    "processed_data_dir = \"processed_data/\"\n",
    "\n",
    "consumer_loans_df.to_csv(processed_data_dir + 'loan_data_clean_20(07-14).csv', index=False)"
   ]
  },
  {
   "cell_type": "markdown",
   "metadata": {},
   "source": [
    "-------\n",
    "### Pre-processing Data for the PD Model: `loan_data_clean_20(07-14)`\n",
    "-----\n",
    "\n",
    "Next we move on to look at the cleaned dataset in detail and pre-process some columns that could be useful for the PD model. \n"
   ]
  },
  {
   "cell_type": "code",
   "execution_count": 34,
   "metadata": {},
   "outputs": [],
   "source": [
    "loan_df = pd.read_csv(processed_data_dir +'loan_data_clean_20(07-14).csv')"
   ]
  },
  {
   "cell_type": "code",
   "execution_count": 35,
   "metadata": {},
   "outputs": [
    {
     "name": "stdout",
     "output_type": "stream",
     "text": [
      "<class 'pandas.core.frame.DataFrame'>\n",
      "RangeIndex: 466285 entries, 0 to 466284\n",
      "Data columns (total 47 columns):\n",
      " #   Column                       Non-Null Count   Dtype  \n",
      "---  ------                       --------------   -----  \n",
      " 0   loan_amnt                    466285 non-null  int64  \n",
      " 1   funded_amnt                  466285 non-null  int64  \n",
      " 2   funded_amnt_inv              466285 non-null  float64\n",
      " 3   term                         466285 non-null  object \n",
      " 4   int_rate                     466285 non-null  float64\n",
      " 5   installment                  466285 non-null  float64\n",
      " 6   grade                        466285 non-null  object \n",
      " 7   sub_grade                    466285 non-null  object \n",
      " 8   emp_length                   445277 non-null  object \n",
      " 9   home_ownership               466285 non-null  object \n",
      " 10  annual_inc                   466281 non-null  float64\n",
      " 11  verification_status          466285 non-null  object \n",
      " 12  issue_d                      466285 non-null  object \n",
      " 13  loan_status                  466285 non-null  object \n",
      " 14  pymnt_plan                   466285 non-null  object \n",
      " 15  purpose                      466285 non-null  object \n",
      " 16  addr_state                   466285 non-null  object \n",
      " 17  dti                          466285 non-null  float64\n",
      " 18  delinq_2yrs                  466256 non-null  float64\n",
      " 19  earliest_cr_line             466256 non-null  object \n",
      " 20  inq_last_6mths               466256 non-null  float64\n",
      " 21  mths_since_last_delinq       215934 non-null  float64\n",
      " 22  mths_since_last_record       62638 non-null   float64\n",
      " 23  open_acc                     466256 non-null  float64\n",
      " 24  pub_rec                      466256 non-null  float64\n",
      " 25  revol_bal                    466285 non-null  int64  \n",
      " 26  revol_util                   465945 non-null  float64\n",
      " 27  total_acc                    466256 non-null  float64\n",
      " 28  initial_list_status          466285 non-null  object \n",
      " 29  out_prncp                    466285 non-null  float64\n",
      " 30  out_prncp_inv                466285 non-null  float64\n",
      " 31  total_pymnt                  466285 non-null  float64\n",
      " 32  total_pymnt_inv              466285 non-null  float64\n",
      " 33  total_rec_prncp              466285 non-null  float64\n",
      " 34  total_rec_int                466285 non-null  float64\n",
      " 35  total_rec_late_fee           466285 non-null  float64\n",
      " 36  recoveries                   466285 non-null  float64\n",
      " 37  collection_recovery_fee      466285 non-null  float64\n",
      " 38  last_pymnt_d                 465909 non-null  object \n",
      " 39  last_pymnt_amnt              466285 non-null  float64\n",
      " 40  last_credit_pull_d           466243 non-null  object \n",
      " 41  collections_12_mths_ex_med   466140 non-null  float64\n",
      " 42  mths_since_last_major_derog  98974 non-null   float64\n",
      " 43  acc_now_delinq               466256 non-null  float64\n",
      " 44  tot_coll_amt                 396009 non-null  float64\n",
      " 45  tot_cur_bal                  396009 non-null  float64\n",
      " 46  total_rev_hi_lim             396009 non-null  float64\n",
      "dtypes: float64(29), int64(3), object(15)\n",
      "memory usage: 167.2+ MB\n"
     ]
    }
   ],
   "source": [
    "loan_df.info()"
   ]
  },
  {
   "cell_type": "markdown",
   "metadata": {},
   "source": [
    "Notice that some attributes has `dtype` object when we expect them to be numerical. First we filter the columns that have an object dtype"
   ]
  },
  {
   "cell_type": "code",
   "execution_count": 36,
   "metadata": {},
   "outputs": [],
   "source": [
    "bool_map = loan_df.dtypes == type(object)\n",
    "\n",
    "object_cols = [key for key, _ in bool_map.items() if bool_map[key] == True]"
   ]
  },
  {
   "cell_type": "markdown",
   "metadata": {},
   "source": [
    "Now, we look at the description of some suspicious attributes that should not be an `object` dtype: `term` and `emp_length`."
   ]
  },
  {
   "cell_type": "code",
   "execution_count": 37,
   "metadata": {},
   "outputs": [
    {
     "data": {
      "text/plain": [
       "'The number of payments on the loan. Values are in months and can be either 36 or 60.'"
      ]
     },
     "execution_count": 37,
     "metadata": {},
     "output_type": "execute_result"
    }
   ],
   "source": [
    "col_desc_dict['term']"
   ]
  },
  {
   "cell_type": "code",
   "execution_count": 38,
   "metadata": {},
   "outputs": [
    {
     "data": {
      "text/plain": [
       "'Employment length in years. Possible values are between 0 and 10 where 0 means less than one year and 10 means ten or more years. '"
      ]
     },
     "execution_count": 38,
     "metadata": {},
     "output_type": "execute_result"
    }
   ],
   "source": [
    "col_desc_dict['emp_length']"
   ]
  },
  {
   "cell_type": "code",
   "execution_count": 39,
   "metadata": {},
   "outputs": [
    {
     "data": {
      "text/plain": [
       "array([' 36 months', ' 60 months'], dtype=object)"
      ]
     },
     "execution_count": 39,
     "metadata": {},
     "output_type": "execute_result"
    }
   ],
   "source": [
    "loan_df.term.unique()"
   ]
  },
  {
   "cell_type": "code",
   "execution_count": 40,
   "metadata": {},
   "outputs": [
    {
     "data": {
      "text/plain": [
       "array(['10+ years', '< 1 year', '1 year', '3 years', '8 years', '9 years',\n",
       "       '4 years', '5 years', '6 years', '2 years', '7 years', nan],\n",
       "      dtype=object)"
      ]
     },
     "execution_count": 40,
     "metadata": {},
     "output_type": "execute_result"
    }
   ],
   "source": [
    "loan_df.emp_length.unique()"
   ]
  },
  {
   "cell_type": "markdown",
   "metadata": {},
   "source": [
    "We first deal with the messy strings in `emp_length` column:"
   ]
  },
  {
   "cell_type": "code",
   "execution_count": 41,
   "metadata": {},
   "outputs": [],
   "source": [
    "def parse_emp_length(val):\n",
    "    # Check if the value is the string 'nan' (case insensitive) or other invalid string\n",
    "    if isinstance(val, str) and val.strip().lower() == 'nan':\n",
    "        return 0\n",
    "    # Check for '< 1 years' or other similar cases\n",
    "    if '<' in str(val):\n",
    "        return 0\n",
    "    # Extract digits and convert to integer\n",
    "    digits = ''.join(filter(str.isdigit, str(val)))\n",
    "    return int(digits) if digits else 0         # Convert to float (to handle \"< 1\")\n",
    "   "
   ]
  },
  {
   "cell_type": "code",
   "execution_count": 42,
   "metadata": {},
   "outputs": [],
   "source": [
    "loan_df['emp_length_years'] = consumer_loans_df.emp_length.apply(parse_emp_length)"
   ]
  },
  {
   "cell_type": "code",
   "execution_count": 43,
   "metadata": {},
   "outputs": [
    {
     "data": {
      "text/plain": [
       "array([10,  0,  1,  3,  8,  9,  4,  5,  6,  2,  7])"
      ]
     },
     "execution_count": 43,
     "metadata": {},
     "output_type": "execute_result"
    }
   ],
   "source": [
    "loan_df.emp_length_years.unique()"
   ]
  },
  {
   "cell_type": "markdown",
   "metadata": {},
   "source": [
    "We can use the same helper function above `parse_string` to deal with the `term` column as it filters the part of a string that has digits (0-9) and turns it into an integer:"
   ]
  },
  {
   "cell_type": "code",
   "execution_count": 44,
   "metadata": {},
   "outputs": [
    {
     "data": {
      "text/plain": [
       "array([36, 60])"
      ]
     },
     "execution_count": 44,
     "metadata": {},
     "output_type": "execute_result"
    }
   ],
   "source": [
    "loan_df['term_in_months'] = loan_df.term.apply(parse_emp_length)\n",
    "\n",
    "loan_df.term_in_months.unique()"
   ]
  },
  {
   "cell_type": "markdown",
   "metadata": {},
   "source": [
    "and the drop the original columns:"
   ]
  },
  {
   "cell_type": "code",
   "execution_count": 45,
   "metadata": {},
   "outputs": [],
   "source": [
    "loan_df = loan_df.drop(columns=['emp_length', 'term'])"
   ]
  },
  {
   "cell_type": "markdown",
   "metadata": {},
   "source": [
    "Next we have a look at `earliest_cr_line` and loan issue date `issue_d`, they are given in the MMM-YY format. "
   ]
  },
  {
   "cell_type": "code",
   "execution_count": 46,
   "metadata": {},
   "outputs": [
    {
     "data": {
      "text/plain": [
       "0    Jan-85\n",
       "1    Apr-99\n",
       "2    Nov-01\n",
       "3    Feb-96\n",
       "4    Jan-96\n",
       "Name: earliest_cr_line, dtype: object"
      ]
     },
     "execution_count": 46,
     "metadata": {},
     "output_type": "execute_result"
    }
   ],
   "source": [
    "loan_df['earliest_cr_line'].head()"
   ]
  },
  {
   "cell_type": "code",
   "execution_count": 47,
   "metadata": {},
   "outputs": [
    {
     "data": {
      "text/plain": [
       "\"The month the borrower's earliest reported credit line was opened\""
      ]
     },
     "execution_count": 47,
     "metadata": {},
     "output_type": "execute_result"
    }
   ],
   "source": [
    "col_desc_dict['earliest_cr_line']"
   ]
  },
  {
   "cell_type": "code",
   "execution_count": 48,
   "metadata": {},
   "outputs": [
    {
     "data": {
      "text/plain": [
       "Timestamp('2068-12-01 00:00:00')"
      ]
     },
     "execution_count": 48,
     "metadata": {},
     "output_type": "execute_result"
    }
   ],
   "source": [
    "loan_df['earliest_cr_line_dt'] = pd.to_datetime(consumer_loans_df.earliest_cr_line, format = \"%b-%y\")\n",
    "\n",
    "loan_df.earliest_cr_line_dt.max()"
   ]
  },
  {
   "cell_type": "markdown",
   "metadata": {},
   "source": [
    "Maximum timestamps look way into the future. This is because `pd.to_datetime()` uses \"pivot year 69\" logic when parsing 2-digit years:\n",
    "\n",
    "- `00` to `68` → 2000–2068\n",
    "\n",
    "- `69` to `99` → 1969–1999\n",
    "\n",
    "To fix the issue, we can find the actual max year, where the earliest credit line is generated, since our data suppose to include data up to 2014, it should be somewhere near and before 2014. For this we can check if there is any entry in the data looping backwards from 2014, and set a cut-off year above which we will modify the dates (e.g from 2055 to 1955), when there is actually a `credit_line_dt` entry "
   ]
  },
  {
   "cell_type": "code",
   "execution_count": 49,
   "metadata": {},
   "outputs": [
    {
     "name": "stdout",
     "output_type": "stream",
     "text": [
      "2010 268\n",
      "2011 161\n",
      "2012 0\n",
      "2013 0\n",
      "2014 0\n"
     ]
    }
   ],
   "source": [
    "years_to_loop = [f'201{i}' for i in range(5)]\n",
    "\n",
    "for year in years_to_loop:\n",
    "    \n",
    "    print(year, len(loan_df.earliest_cr_line_dt[loan_df.earliest_cr_line_dt == year]))                "
   ]
  },
  {
   "cell_type": "markdown",
   "metadata": {},
   "source": [
    "This suggests that we can take the cut-off year to be 2011. In other words, we modify the timestamps that has a year > 2011 and do nothing the rest as below:"
   ]
  },
  {
   "cell_type": "code",
   "execution_count": 50,
   "metadata": {},
   "outputs": [],
   "source": [
    "loan_df.earliest_cr_line_dt = loan_df.earliest_cr_line_dt.apply(lambda d: d.replace(year=d.year - 100) if d.year > 2011 else d)"
   ]
  },
  {
   "cell_type": "code",
   "execution_count": 51,
   "metadata": {},
   "outputs": [
    {
     "data": {
      "text/plain": [
       "(Timestamp('2011-11-01 00:00:00'), Timestamp('1944-01-01 00:00:00'))"
      ]
     },
     "execution_count": 51,
     "metadata": {},
     "output_type": "execute_result"
    }
   ],
   "source": [
    "loan_df.earliest_cr_line_dt.max(), loan_df.earliest_cr_line_dt.min()"
   ]
  },
  {
   "cell_type": "code",
   "execution_count": 52,
   "metadata": {},
   "outputs": [],
   "source": [
    "# drop earliest_cr_line\n",
    "\n",
    "loan_df = loan_df.drop(columns='earliest_cr_line')"
   ]
  },
  {
   "cell_type": "markdown",
   "metadata": {},
   "source": [
    "Next we parse the dates in the `issue_d` column: "
   ]
  },
  {
   "cell_type": "code",
   "execution_count": 53,
   "metadata": {},
   "outputs": [
    {
     "data": {
      "text/plain": [
       "'The month which the loan was funded'"
      ]
     },
     "execution_count": 53,
     "metadata": {},
     "output_type": "execute_result"
    }
   ],
   "source": [
    "col_desc_dict['issue_d']"
   ]
  },
  {
   "cell_type": "code",
   "execution_count": 54,
   "metadata": {},
   "outputs": [
    {
     "data": {
      "text/plain": [
       "(Timestamp('2014-12-01 00:00:00'), Timestamp('2007-06-01 00:00:00'))"
      ]
     },
     "execution_count": 54,
     "metadata": {},
     "output_type": "execute_result"
    }
   ],
   "source": [
    "loan_df['issue_d_dt'] = pd.to_datetime(loan_df.issue_d, format = \"%b-%y\")\n",
    "\n",
    "loan_df.issue_d_dt.max(), loan_df.issue_d_dt.min()"
   ]
  },
  {
   "cell_type": "code",
   "execution_count": 55,
   "metadata": {},
   "outputs": [],
   "source": [
    "# drop the original \n",
    "\n",
    "loan_df = loan_df.drop(columns = 'issue_d')"
   ]
  },
  {
   "cell_type": "markdown",
   "metadata": {},
   "source": [
    "#### Feature Engineering: Imputing the rest of data frame with missing values \n",
    "-------\n",
    "\n",
    "There are some attributes in the data that have a small portion of missing values, we can benefit from these features for modeling PD. Let's have a look at them, to see what we can do.  "
   ]
  },
  {
   "cell_type": "code",
   "execution_count": 56,
   "metadata": {},
   "outputs": [
    {
     "data": {
      "text/plain": [
       "annual_inc                          4\n",
       "delinq_2yrs                        29\n",
       "inq_last_6mths                     29\n",
       "mths_since_last_delinq         250351\n",
       "mths_since_last_record         403647\n",
       "open_acc                           29\n",
       "pub_rec                            29\n",
       "revol_util                        340\n",
       "total_acc                          29\n",
       "last_pymnt_d                      376\n",
       "last_credit_pull_d                 42\n",
       "collections_12_mths_ex_med        145\n",
       "mths_since_last_major_derog    367311\n",
       "acc_now_delinq                     29\n",
       "tot_coll_amt                    70276\n",
       "tot_cur_bal                     70276\n",
       "total_rev_hi_lim                70276\n",
       "earliest_cr_line_dt                29\n",
       "dtype: int64"
      ]
     },
     "execution_count": 56,
     "metadata": {},
     "output_type": "execute_result"
    }
   ],
   "source": [
    "loan_df.isna().sum()[loan_df.isna().sum() > 0]"
   ]
  },
  {
   "cell_type": "code",
   "execution_count": 57,
   "metadata": {},
   "outputs": [
    {
     "data": {
      "text/plain": [
       "\"The month the borrower's earliest reported credit line was opened\""
      ]
     },
     "execution_count": 57,
     "metadata": {},
     "output_type": "execute_result"
    }
   ],
   "source": [
    "col_desc_dict['earliest_cr_line']"
   ]
  },
  {
   "cell_type": "markdown",
   "metadata": {},
   "source": [
    "`earliest_cr_line_dt` is a column we created pre-processing the original! "
   ]
  },
  {
   "cell_type": "code",
   "execution_count": 58,
   "metadata": {},
   "outputs": [],
   "source": [
    "col_desc_dict['earliest_cr_line_dt'] = \"The date the borrower's earliest reported credit line was opened\"\n",
    "\n",
    "del col_desc_dict['earliest_cr_line']"
   ]
  },
  {
   "cell_type": "code",
   "execution_count": 59,
   "metadata": {},
   "outputs": [
    {
     "name": "stdout",
     "output_type": "stream",
     "text": [
      "annual_inc -- # of missing vals 4 | The self-reported annual income provided by the borrower during registration. \n",
      "delinq_2yrs -- # of missing vals 29 | The number of 30+ days past-due incidences of delinquency in the borrower's credit file for the past 2 years \n",
      "inq_last_6mths -- # of missing vals 29 | The number of inquiries in past 6 months (excluding auto and mortgage inquiries) \n",
      "mths_since_last_delinq -- # of missing vals 250351 | The number of months since the borrower's last delinquency. \n",
      "mths_since_last_record -- # of missing vals 403647 | The number of months since the last public record. \n",
      "open_acc -- # of missing vals 29 | The number of open credit lines in the borrower's credit file. \n",
      "pub_rec -- # of missing vals 29 | Number of derogatory public records \n",
      "revol_util -- # of missing vals 340 | Revolving line utilization rate, or the amount of credit the borrower is using relative to all available revolving credit. \n",
      "total_acc -- # of missing vals 29 | The total number of credit lines currently in the borrower's credit file \n",
      "last_pymnt_d -- # of missing vals 376 | Last month payment was received \n",
      "last_credit_pull_d -- # of missing vals 42 | The most recent month LC pulled credit for this loan \n",
      "collections_12_mths_ex_med -- # of missing vals 145 | Number of collections in 12 months excluding medical collections \n",
      "mths_since_last_major_derog -- # of missing vals 367311 | Months since most recent 90-day or worse rating \n",
      "acc_now_delinq -- # of missing vals 29 | The number of accounts on which the borrower is now delinquent. \n",
      "tot_coll_amt -- # of missing vals 70276 | Total collection amounts ever owed \n",
      "tot_cur_bal -- # of missing vals 70276 | Total current balance of all accounts \n",
      "total_rev_hi_lim -- # of missing vals 70276 | Total revolving high credit/credit limit \n",
      "earliest_cr_line_dt -- # of missing vals 29 | The date the borrower's earliest reported credit line was opened \n"
     ]
    }
   ],
   "source": [
    "missing_cols = loan_df.isna().sum()[loan_df.isna().sum() > 0]\n",
    "\n",
    "for col, num_mis in missing_cols.items():\n",
    "    \n",
    "    print(f\"{col} -- # of missing vals {num_mis} | {col_desc_dict[col]} \")"
   ]
  },
  {
   "cell_type": "markdown",
   "metadata": {},
   "source": [
    "We can deal with the missing date in `earliest_cr_line_dt` later. Some attributes have the same amount of data missing. These might correspond to the same observations. \n",
    "\n",
    "All of these attributes above could be important for modeling PD. The `total_rev_hi_lim` is a subtle one referring to the maximum amount of money a borrower can access and re-borrow from a credit line or card, like a credit card or line of credit, before needing to re-apply for credit. A 15% of `total_rev_hi_lim` missing"
   ]
  },
  {
   "cell_type": "code",
   "execution_count": 61,
   "metadata": {},
   "outputs": [
    {
     "name": "stdout",
     "output_type": "stream",
     "text": [
      "percentage of the missing data for the 'total_rev_hi_lim': 15.07 % \n"
     ]
    }
   ],
   "source": [
    "percent_miss = (loan_df.isna().sum()[loan_df.isna().sum() > 0].total_rev_hi_lim/ len(loan_df)) * 100\n",
    "\n",
    "print(f\"percentage of the missing data for the 'total_rev_hi_lim': {percent_miss:.2f} % \")"
   ]
  },
  {
   "cell_type": "code",
   "execution_count": 62,
   "metadata": {},
   "outputs": [
    {
     "data": {
      "text/plain": [
       "count    3.960090e+05\n",
       "mean     3.037909e+04\n",
       "std      3.724713e+04\n",
       "min      0.000000e+00\n",
       "25%      1.350000e+04\n",
       "50%      2.280000e+04\n",
       "75%      3.790000e+04\n",
       "max      9.999999e+06\n",
       "Name: total_rev_hi_lim, dtype: float64"
      ]
     },
     "execution_count": 62,
     "metadata": {},
     "output_type": "execute_result"
    }
   ],
   "source": [
    "loan_df.total_rev_hi_lim.describe()"
   ]
  },
  {
   "cell_type": "markdown",
   "metadata": {},
   "source": [
    "The distribution is quite skewed. On the other hand, missing values all correspond to loans given in 2011 and 2012. It is better to keep an indicator of this \"missingness\" while taking into account the skewness. We will thus introduce a variable that indicates the \"missingness\" while filling imputing the original variable with median. To reduce the sensitivity of the imputation to the extreme outliers we can use a log-transform and back in the process: "
   ]
  },
  {
   "cell_type": "code",
   "execution_count": 85,
   "metadata": {},
   "outputs": [
    {
     "name": "stderr",
     "output_type": "stream",
     "text": [
      "/var/folders/q0/lz7h2q596yx70_f664l6gv8h0000gn/T/ipykernel_1077/415161526.py:8: FutureWarning: A value is trying to be set on a copy of a DataFrame or Series through chained assignment using an inplace method.\n",
      "The behavior will change in pandas 3.0. This inplace method will never work because the intermediate object on which we are setting values always behaves as a copy.\n",
      "\n",
      "For example, when doing 'df[col].method(value, inplace=True)', try using 'df.method({col: value}, inplace=True)' or df[col] = df[col].method(value) instead, to perform the operation inplace on the original object.\n",
      "\n",
      "\n",
      "  loan_df['total_rev_hi_lim'].fillna(np.expm1(log_median_val), inplace=True)\n"
     ]
    }
   ],
   "source": [
    "# variable to indicate missing vals \n",
    "loan_df['total_rev_hi_lim_missing'] = loan_df['total_rev_hi_lim'].isnull().astype(int)\n",
    "\n",
    "# Log-transform to reduce skew, and Median imputation\n",
    "log_median_val = (np.log1p(loan_df['total_rev_hi_lim'])).median()\n",
    "\n",
    "# Inverse transform\n",
    "loan_df['total_rev_hi_lim'].fillna(np.expm1(log_median_val), inplace=True)"
   ]
  },
  {
   "cell_type": "code",
   "execution_count": 86,
   "metadata": {},
   "outputs": [
    {
     "data": {
      "text/plain": [
       "0"
      ]
     },
     "execution_count": 86,
     "metadata": {},
     "output_type": "execute_result"
    }
   ],
   "source": [
    "loan_df.loc[:,'total_rev_hi_lim'].isna().sum()"
   ]
  },
  {
   "cell_type": "markdown",
   "metadata": {},
   "source": [
    "- `annual_inc` has 4 missing values. We can replace them with the median/mean of the rest. In any case, it is highly unlikely that it will affect modeling. Mean is higher than median, so I choose to fill missing values with the median."
   ]
  },
  {
   "cell_type": "code",
   "execution_count": 87,
   "metadata": {},
   "outputs": [
    {
     "data": {
      "text/plain": [
       "count    4.662810e+05\n",
       "mean     7.327738e+04\n",
       "std      5.496357e+04\n",
       "min      1.896000e+03\n",
       "25%      4.500000e+04\n",
       "50%      6.300000e+04\n",
       "75%      8.896000e+04\n",
       "max      7.500000e+06\n",
       "Name: annual_inc, dtype: float64"
      ]
     },
     "execution_count": 87,
     "metadata": {},
     "output_type": "execute_result"
    }
   ],
   "source": [
    "loan_df['annual_inc'].describe()"
   ]
  },
  {
   "cell_type": "code",
   "execution_count": 88,
   "metadata": {},
   "outputs": [
    {
     "data": {
      "text/plain": [
       "0"
      ]
     },
     "execution_count": 88,
     "metadata": {},
     "output_type": "execute_result"
    }
   ],
   "source": [
    "loan_df.loc[:,'annual_inc'] = loan_df['annual_inc'].fillna(loan_df['annual_inc'].median())\n",
    "\n",
    "loan_df['annual_inc'].isnull().sum()"
   ]
  },
  {
   "cell_type": "markdown",
   "metadata": {},
   "source": [
    "- `revol_util`\n",
    "The revolving line utilization rate, also known as the credit utilization ratio, is a percentage that shows how much of your available credit you're currently using. It's calculated by dividing your total outstanding balance on revolving credit accounts by your total credit limit. This percentage is a key factor in determining your credit score. "
   ]
  },
  {
   "cell_type": "code",
   "execution_count": 89,
   "metadata": {},
   "outputs": [
    {
     "data": {
      "text/plain": [
       "count    465945.000000\n",
       "mean         56.176947\n",
       "std          23.732628\n",
       "min           0.000000\n",
       "25%          39.200000\n",
       "50%          57.600000\n",
       "75%          74.700000\n",
       "max         892.300000\n",
       "Name: revol_util, dtype: float64"
      ]
     },
     "execution_count": 89,
     "metadata": {},
     "output_type": "execute_result"
    }
   ],
   "source": [
    "loan_df.revol_util.describe()"
   ]
  },
  {
   "cell_type": "markdown",
   "metadata": {},
   "source": [
    "Note that we can not use instances with non-NaN values of `revol_util` and the target to guide the imputing process. As this would lead to data leakage from the targets to features, undermining the capabilities of the model in the real world/out of sample data where such leak surely do not exist. However, this approach can be used if we were to split the data into train and test first. In this case, we could perform a target guided imputing using only the training set data and apply the same to test. I will omit the second approach here, just impute with the median of the non-NaN values. "
   ]
  },
  {
   "cell_type": "code",
   "execution_count": 91,
   "metadata": {},
   "outputs": [
    {
     "data": {
      "text/plain": [
       "0"
      ]
     },
     "execution_count": 91,
     "metadata": {},
     "output_type": "execute_result"
    }
   ],
   "source": [
    "loan_df.loc[:,'revol_util'] = loan_df.revol_util.fillna(loan_df.revol_util.median())\n",
    "\n",
    "loan_df.revol_util.isna().sum()"
   ]
  },
  {
   "cell_type": "markdown",
   "metadata": {},
   "source": [
    "Now we focus on the columns that have all 29 values missing: "
   ]
  },
  {
   "cell_type": "code",
   "execution_count": 92,
   "metadata": {},
   "outputs": [
    {
     "name": "stdout",
     "output_type": "stream",
     "text": [
      "delinq_2yrs -- # of missing vals 29 | The number of 30+ days past-due incidences of delinquency in the borrower's credit file for the past 2 years \n",
      "inq_last_6mths -- # of missing vals 29 | The number of inquiries in past 6 months (excluding auto and mortgage inquiries) \n",
      "open_acc -- # of missing vals 29 | The number of open credit lines in the borrower's credit file. \n",
      "pub_rec -- # of missing vals 29 | Number of derogatory public records \n",
      "total_acc -- # of missing vals 29 | The total number of credit lines currently in the borrower's credit file \n",
      "acc_now_delinq -- # of missing vals 29 | The number of accounts on which the borrower is now delinquent. \n",
      "earliest_cr_line_dt -- # of missing vals 29 | The date the borrower's earliest reported credit line was opened \n"
     ]
    }
   ],
   "source": [
    "equal_miss_cols = []\n",
    "for col, num_mis in missing_cols.items():\n",
    "    \n",
    "    if num_mis == 29:\n",
    "        \n",
    "        print(f\"{col} -- # of missing vals {num_mis} | {col_desc_dict[col]} \")\n",
    "        equal_miss_cols.append(col)"
   ]
  },
  {
   "cell_type": "code",
   "execution_count": 93,
   "metadata": {},
   "outputs": [
    {
     "name": "stdout",
     "output_type": "stream",
     "text": [
      "Do all columns have missing values at the same rows? True\n"
     ]
    }
   ],
   "source": [
    "null_mask = loan_df[equal_miss_cols].isnull()\n",
    "\n",
    "# Check if all masks are the same row-wise\n",
    "all_equal = null_mask.eq(null_mask.iloc[:, 0], axis=0).all(axis=1)\n",
    "\n",
    "# Are they all True?\n",
    "consistent_missing = all_equal.all()\n",
    "\n",
    "print(\"Do all columns have missing values at the same rows?\", consistent_missing)"
   ]
  },
  {
   "cell_type": "code",
   "execution_count": 94,
   "metadata": {},
   "outputs": [
    {
     "data": {
      "text/html": [
       "<div>\n",
       "<style scoped>\n",
       "    .dataframe tbody tr th:only-of-type {\n",
       "        vertical-align: middle;\n",
       "    }\n",
       "\n",
       "    .dataframe tbody tr th {\n",
       "        vertical-align: top;\n",
       "    }\n",
       "\n",
       "    .dataframe thead th {\n",
       "        text-align: right;\n",
       "    }\n",
       "</style>\n",
       "<table border=\"1\" class=\"dataframe\">\n",
       "  <thead>\n",
       "    <tr style=\"text-align: right;\">\n",
       "      <th></th>\n",
       "      <th>delinq_2yrs</th>\n",
       "      <th>inq_last_6mths</th>\n",
       "      <th>open_acc</th>\n",
       "      <th>pub_rec</th>\n",
       "      <th>total_acc</th>\n",
       "      <th>acc_now_delinq</th>\n",
       "      <th>earliest_cr_line_dt</th>\n",
       "    </tr>\n",
       "  </thead>\n",
       "  <tbody>\n",
       "    <tr>\n",
       "      <th>42449</th>\n",
       "      <td>NaN</td>\n",
       "      <td>NaN</td>\n",
       "      <td>NaN</td>\n",
       "      <td>NaN</td>\n",
       "      <td>NaN</td>\n",
       "      <td>NaN</td>\n",
       "      <td>NaT</td>\n",
       "    </tr>\n",
       "    <tr>\n",
       "      <th>42450</th>\n",
       "      <td>NaN</td>\n",
       "      <td>NaN</td>\n",
       "      <td>NaN</td>\n",
       "      <td>NaN</td>\n",
       "      <td>NaN</td>\n",
       "      <td>NaN</td>\n",
       "      <td>NaT</td>\n",
       "    </tr>\n",
       "    <tr>\n",
       "      <th>42459</th>\n",
       "      <td>NaN</td>\n",
       "      <td>NaN</td>\n",
       "      <td>NaN</td>\n",
       "      <td>NaN</td>\n",
       "      <td>NaN</td>\n",
       "      <td>NaN</td>\n",
       "      <td>NaT</td>\n",
       "    </tr>\n",
       "    <tr>\n",
       "      <th>42472</th>\n",
       "      <td>NaN</td>\n",
       "      <td>NaN</td>\n",
       "      <td>NaN</td>\n",
       "      <td>NaN</td>\n",
       "      <td>NaN</td>\n",
       "      <td>NaN</td>\n",
       "      <td>NaT</td>\n",
       "    </tr>\n",
       "    <tr>\n",
       "      <th>42480</th>\n",
       "      <td>NaN</td>\n",
       "      <td>NaN</td>\n",
       "      <td>NaN</td>\n",
       "      <td>NaN</td>\n",
       "      <td>NaN</td>\n",
       "      <td>NaN</td>\n",
       "      <td>NaT</td>\n",
       "    </tr>\n",
       "    <tr>\n",
       "      <th>42483</th>\n",
       "      <td>NaN</td>\n",
       "      <td>NaN</td>\n",
       "      <td>NaN</td>\n",
       "      <td>NaN</td>\n",
       "      <td>NaN</td>\n",
       "      <td>NaN</td>\n",
       "      <td>NaT</td>\n",
       "    </tr>\n",
       "    <tr>\n",
       "      <th>42494</th>\n",
       "      <td>NaN</td>\n",
       "      <td>NaN</td>\n",
       "      <td>NaN</td>\n",
       "      <td>NaN</td>\n",
       "      <td>NaN</td>\n",
       "      <td>NaN</td>\n",
       "      <td>NaT</td>\n",
       "    </tr>\n",
       "    <tr>\n",
       "      <th>42509</th>\n",
       "      <td>NaN</td>\n",
       "      <td>NaN</td>\n",
       "      <td>NaN</td>\n",
       "      <td>NaN</td>\n",
       "      <td>NaN</td>\n",
       "      <td>NaN</td>\n",
       "      <td>NaT</td>\n",
       "    </tr>\n",
       "    <tr>\n",
       "      <th>42514</th>\n",
       "      <td>NaN</td>\n",
       "      <td>NaN</td>\n",
       "      <td>NaN</td>\n",
       "      <td>NaN</td>\n",
       "      <td>NaN</td>\n",
       "      <td>NaN</td>\n",
       "      <td>NaT</td>\n",
       "    </tr>\n",
       "    <tr>\n",
       "      <th>42515</th>\n",
       "      <td>NaN</td>\n",
       "      <td>NaN</td>\n",
       "      <td>NaN</td>\n",
       "      <td>NaN</td>\n",
       "      <td>NaN</td>\n",
       "      <td>NaN</td>\n",
       "      <td>NaT</td>\n",
       "    </tr>\n",
       "    <tr>\n",
       "      <th>42516</th>\n",
       "      <td>NaN</td>\n",
       "      <td>NaN</td>\n",
       "      <td>NaN</td>\n",
       "      <td>NaN</td>\n",
       "      <td>NaN</td>\n",
       "      <td>NaN</td>\n",
       "      <td>NaT</td>\n",
       "    </tr>\n",
       "    <tr>\n",
       "      <th>42517</th>\n",
       "      <td>NaN</td>\n",
       "      <td>NaN</td>\n",
       "      <td>NaN</td>\n",
       "      <td>NaN</td>\n",
       "      <td>NaN</td>\n",
       "      <td>NaN</td>\n",
       "      <td>NaT</td>\n",
       "    </tr>\n",
       "    <tr>\n",
       "      <th>42518</th>\n",
       "      <td>NaN</td>\n",
       "      <td>NaN</td>\n",
       "      <td>NaN</td>\n",
       "      <td>NaN</td>\n",
       "      <td>NaN</td>\n",
       "      <td>NaN</td>\n",
       "      <td>NaT</td>\n",
       "    </tr>\n",
       "    <tr>\n",
       "      <th>42519</th>\n",
       "      <td>NaN</td>\n",
       "      <td>NaN</td>\n",
       "      <td>NaN</td>\n",
       "      <td>NaN</td>\n",
       "      <td>NaN</td>\n",
       "      <td>NaN</td>\n",
       "      <td>NaT</td>\n",
       "    </tr>\n",
       "    <tr>\n",
       "      <th>42520</th>\n",
       "      <td>NaN</td>\n",
       "      <td>NaN</td>\n",
       "      <td>NaN</td>\n",
       "      <td>NaN</td>\n",
       "      <td>NaN</td>\n",
       "      <td>NaN</td>\n",
       "      <td>NaT</td>\n",
       "    </tr>\n",
       "    <tr>\n",
       "      <th>42521</th>\n",
       "      <td>NaN</td>\n",
       "      <td>NaN</td>\n",
       "      <td>NaN</td>\n",
       "      <td>NaN</td>\n",
       "      <td>NaN</td>\n",
       "      <td>NaN</td>\n",
       "      <td>NaT</td>\n",
       "    </tr>\n",
       "    <tr>\n",
       "      <th>42522</th>\n",
       "      <td>NaN</td>\n",
       "      <td>NaN</td>\n",
       "      <td>NaN</td>\n",
       "      <td>NaN</td>\n",
       "      <td>NaN</td>\n",
       "      <td>NaN</td>\n",
       "      <td>NaT</td>\n",
       "    </tr>\n",
       "    <tr>\n",
       "      <th>42523</th>\n",
       "      <td>NaN</td>\n",
       "      <td>NaN</td>\n",
       "      <td>NaN</td>\n",
       "      <td>NaN</td>\n",
       "      <td>NaN</td>\n",
       "      <td>NaN</td>\n",
       "      <td>NaT</td>\n",
       "    </tr>\n",
       "    <tr>\n",
       "      <th>42524</th>\n",
       "      <td>NaN</td>\n",
       "      <td>NaN</td>\n",
       "      <td>NaN</td>\n",
       "      <td>NaN</td>\n",
       "      <td>NaN</td>\n",
       "      <td>NaN</td>\n",
       "      <td>NaT</td>\n",
       "    </tr>\n",
       "    <tr>\n",
       "      <th>42525</th>\n",
       "      <td>NaN</td>\n",
       "      <td>NaN</td>\n",
       "      <td>NaN</td>\n",
       "      <td>NaN</td>\n",
       "      <td>NaN</td>\n",
       "      <td>NaN</td>\n",
       "      <td>NaT</td>\n",
       "    </tr>\n",
       "    <tr>\n",
       "      <th>42526</th>\n",
       "      <td>NaN</td>\n",
       "      <td>NaN</td>\n",
       "      <td>NaN</td>\n",
       "      <td>NaN</td>\n",
       "      <td>NaN</td>\n",
       "      <td>NaN</td>\n",
       "      <td>NaT</td>\n",
       "    </tr>\n",
       "    <tr>\n",
       "      <th>42527</th>\n",
       "      <td>NaN</td>\n",
       "      <td>NaN</td>\n",
       "      <td>NaN</td>\n",
       "      <td>NaN</td>\n",
       "      <td>NaN</td>\n",
       "      <td>NaN</td>\n",
       "      <td>NaT</td>\n",
       "    </tr>\n",
       "    <tr>\n",
       "      <th>42528</th>\n",
       "      <td>NaN</td>\n",
       "      <td>NaN</td>\n",
       "      <td>NaN</td>\n",
       "      <td>NaN</td>\n",
       "      <td>NaN</td>\n",
       "      <td>NaN</td>\n",
       "      <td>NaT</td>\n",
       "    </tr>\n",
       "    <tr>\n",
       "      <th>42529</th>\n",
       "      <td>NaN</td>\n",
       "      <td>NaN</td>\n",
       "      <td>NaN</td>\n",
       "      <td>NaN</td>\n",
       "      <td>NaN</td>\n",
       "      <td>NaN</td>\n",
       "      <td>NaT</td>\n",
       "    </tr>\n",
       "    <tr>\n",
       "      <th>42530</th>\n",
       "      <td>NaN</td>\n",
       "      <td>NaN</td>\n",
       "      <td>NaN</td>\n",
       "      <td>NaN</td>\n",
       "      <td>NaN</td>\n",
       "      <td>NaN</td>\n",
       "      <td>NaT</td>\n",
       "    </tr>\n",
       "    <tr>\n",
       "      <th>42531</th>\n",
       "      <td>NaN</td>\n",
       "      <td>NaN</td>\n",
       "      <td>NaN</td>\n",
       "      <td>NaN</td>\n",
       "      <td>NaN</td>\n",
       "      <td>NaN</td>\n",
       "      <td>NaT</td>\n",
       "    </tr>\n",
       "    <tr>\n",
       "      <th>42532</th>\n",
       "      <td>NaN</td>\n",
       "      <td>NaN</td>\n",
       "      <td>NaN</td>\n",
       "      <td>NaN</td>\n",
       "      <td>NaN</td>\n",
       "      <td>NaN</td>\n",
       "      <td>NaT</td>\n",
       "    </tr>\n",
       "    <tr>\n",
       "      <th>42533</th>\n",
       "      <td>NaN</td>\n",
       "      <td>NaN</td>\n",
       "      <td>NaN</td>\n",
       "      <td>NaN</td>\n",
       "      <td>NaN</td>\n",
       "      <td>NaN</td>\n",
       "      <td>NaT</td>\n",
       "    </tr>\n",
       "    <tr>\n",
       "      <th>42534</th>\n",
       "      <td>NaN</td>\n",
       "      <td>NaN</td>\n",
       "      <td>NaN</td>\n",
       "      <td>NaN</td>\n",
       "      <td>NaN</td>\n",
       "      <td>NaN</td>\n",
       "      <td>NaT</td>\n",
       "    </tr>\n",
       "  </tbody>\n",
       "</table>\n",
       "</div>"
      ],
      "text/plain": [
       "       delinq_2yrs  inq_last_6mths  open_acc  pub_rec  total_acc  \\\n",
       "42449          NaN             NaN       NaN      NaN        NaN   \n",
       "42450          NaN             NaN       NaN      NaN        NaN   \n",
       "42459          NaN             NaN       NaN      NaN        NaN   \n",
       "42472          NaN             NaN       NaN      NaN        NaN   \n",
       "42480          NaN             NaN       NaN      NaN        NaN   \n",
       "42483          NaN             NaN       NaN      NaN        NaN   \n",
       "42494          NaN             NaN       NaN      NaN        NaN   \n",
       "42509          NaN             NaN       NaN      NaN        NaN   \n",
       "42514          NaN             NaN       NaN      NaN        NaN   \n",
       "42515          NaN             NaN       NaN      NaN        NaN   \n",
       "42516          NaN             NaN       NaN      NaN        NaN   \n",
       "42517          NaN             NaN       NaN      NaN        NaN   \n",
       "42518          NaN             NaN       NaN      NaN        NaN   \n",
       "42519          NaN             NaN       NaN      NaN        NaN   \n",
       "42520          NaN             NaN       NaN      NaN        NaN   \n",
       "42521          NaN             NaN       NaN      NaN        NaN   \n",
       "42522          NaN             NaN       NaN      NaN        NaN   \n",
       "42523          NaN             NaN       NaN      NaN        NaN   \n",
       "42524          NaN             NaN       NaN      NaN        NaN   \n",
       "42525          NaN             NaN       NaN      NaN        NaN   \n",
       "42526          NaN             NaN       NaN      NaN        NaN   \n",
       "42527          NaN             NaN       NaN      NaN        NaN   \n",
       "42528          NaN             NaN       NaN      NaN        NaN   \n",
       "42529          NaN             NaN       NaN      NaN        NaN   \n",
       "42530          NaN             NaN       NaN      NaN        NaN   \n",
       "42531          NaN             NaN       NaN      NaN        NaN   \n",
       "42532          NaN             NaN       NaN      NaN        NaN   \n",
       "42533          NaN             NaN       NaN      NaN        NaN   \n",
       "42534          NaN             NaN       NaN      NaN        NaN   \n",
       "\n",
       "       acc_now_delinq earliest_cr_line_dt  \n",
       "42449             NaN                 NaT  \n",
       "42450             NaN                 NaT  \n",
       "42459             NaN                 NaT  \n",
       "42472             NaN                 NaT  \n",
       "42480             NaN                 NaT  \n",
       "42483             NaN                 NaT  \n",
       "42494             NaN                 NaT  \n",
       "42509             NaN                 NaT  \n",
       "42514             NaN                 NaT  \n",
       "42515             NaN                 NaT  \n",
       "42516             NaN                 NaT  \n",
       "42517             NaN                 NaT  \n",
       "42518             NaN                 NaT  \n",
       "42519             NaN                 NaT  \n",
       "42520             NaN                 NaT  \n",
       "42521             NaN                 NaT  \n",
       "42522             NaN                 NaT  \n",
       "42523             NaN                 NaT  \n",
       "42524             NaN                 NaT  \n",
       "42525             NaN                 NaT  \n",
       "42526             NaN                 NaT  \n",
       "42527             NaN                 NaT  \n",
       "42528             NaN                 NaT  \n",
       "42529             NaN                 NaT  \n",
       "42530             NaN                 NaT  \n",
       "42531             NaN                 NaT  \n",
       "42532             NaN                 NaT  \n",
       "42533             NaN                 NaT  \n",
       "42534             NaN                 NaT  "
      ]
     },
     "execution_count": 94,
     "metadata": {},
     "output_type": "execute_result"
    }
   ],
   "source": [
    "missing_df = loan_df[equal_miss_cols][loan_df[equal_miss_cols].isna().all(axis=1)]\n",
    "\n",
    "indices  = missing_df.index \n",
    "\n",
    "missing_df"
   ]
  },
  {
   "cell_type": "code",
   "execution_count": 95,
   "metadata": {},
   "outputs": [
    {
     "data": {
      "text/html": [
       "<div>\n",
       "<style scoped>\n",
       "    .dataframe tbody tr th:only-of-type {\n",
       "        vertical-align: middle;\n",
       "    }\n",
       "\n",
       "    .dataframe tbody tr th {\n",
       "        vertical-align: top;\n",
       "    }\n",
       "\n",
       "    .dataframe thead th {\n",
       "        text-align: right;\n",
       "    }\n",
       "</style>\n",
       "<table border=\"1\" class=\"dataframe\">\n",
       "  <thead>\n",
       "    <tr style=\"text-align: right;\">\n",
       "      <th></th>\n",
       "      <th>loan_status</th>\n",
       "    </tr>\n",
       "  </thead>\n",
       "  <tbody>\n",
       "    <tr>\n",
       "      <th>42449</th>\n",
       "      <td>Does not meet the credit policy. Status:Fully Paid</td>\n",
       "    </tr>\n",
       "    <tr>\n",
       "      <th>42450</th>\n",
       "      <td>Does not meet the credit policy. Status:Fully Paid</td>\n",
       "    </tr>\n",
       "    <tr>\n",
       "      <th>42459</th>\n",
       "      <td>Does not meet the credit policy. Status:Fully Paid</td>\n",
       "    </tr>\n",
       "    <tr>\n",
       "      <th>42472</th>\n",
       "      <td>Does not meet the credit policy. Status:Fully Paid</td>\n",
       "    </tr>\n",
       "    <tr>\n",
       "      <th>42480</th>\n",
       "      <td>Does not meet the credit policy. Status:Fully Paid</td>\n",
       "    </tr>\n",
       "    <tr>\n",
       "      <th>42483</th>\n",
       "      <td>Does not meet the credit policy. Status:Fully Paid</td>\n",
       "    </tr>\n",
       "    <tr>\n",
       "      <th>42494</th>\n",
       "      <td>Does not meet the credit policy. Status:Fully Paid</td>\n",
       "    </tr>\n",
       "    <tr>\n",
       "      <th>42509</th>\n",
       "      <td>Does not meet the credit policy. Status:Fully Paid</td>\n",
       "    </tr>\n",
       "    <tr>\n",
       "      <th>42514</th>\n",
       "      <td>Does not meet the credit policy. Status:Fully Paid</td>\n",
       "    </tr>\n",
       "    <tr>\n",
       "      <th>42515</th>\n",
       "      <td>Does not meet the credit policy. Status:Fully Paid</td>\n",
       "    </tr>\n",
       "    <tr>\n",
       "      <th>42516</th>\n",
       "      <td>Does not meet the credit policy. Status:Fully Paid</td>\n",
       "    </tr>\n",
       "    <tr>\n",
       "      <th>42517</th>\n",
       "      <td>Does not meet the credit policy. Status:Fully Paid</td>\n",
       "    </tr>\n",
       "    <tr>\n",
       "      <th>42518</th>\n",
       "      <td>Does not meet the credit policy. Status:Fully Paid</td>\n",
       "    </tr>\n",
       "    <tr>\n",
       "      <th>42519</th>\n",
       "      <td>Does not meet the credit policy. Status:Fully Paid</td>\n",
       "    </tr>\n",
       "    <tr>\n",
       "      <th>42520</th>\n",
       "      <td>Does not meet the credit policy. Status:Fully Paid</td>\n",
       "    </tr>\n",
       "    <tr>\n",
       "      <th>42521</th>\n",
       "      <td>Does not meet the credit policy. Status:Charged Off</td>\n",
       "    </tr>\n",
       "    <tr>\n",
       "      <th>42522</th>\n",
       "      <td>Does not meet the credit policy. Status:Fully Paid</td>\n",
       "    </tr>\n",
       "    <tr>\n",
       "      <th>42523</th>\n",
       "      <td>Does not meet the credit policy. Status:Charged Off</td>\n",
       "    </tr>\n",
       "    <tr>\n",
       "      <th>42524</th>\n",
       "      <td>Does not meet the credit policy. Status:Fully Paid</td>\n",
       "    </tr>\n",
       "    <tr>\n",
       "      <th>42525</th>\n",
       "      <td>Does not meet the credit policy. Status:Fully Paid</td>\n",
       "    </tr>\n",
       "    <tr>\n",
       "      <th>42526</th>\n",
       "      <td>Does not meet the credit policy. Status:Fully Paid</td>\n",
       "    </tr>\n",
       "    <tr>\n",
       "      <th>42527</th>\n",
       "      <td>Does not meet the credit policy. Status:Fully Paid</td>\n",
       "    </tr>\n",
       "    <tr>\n",
       "      <th>42528</th>\n",
       "      <td>Does not meet the credit policy. Status:Fully Paid</td>\n",
       "    </tr>\n",
       "    <tr>\n",
       "      <th>42529</th>\n",
       "      <td>Does not meet the credit policy. Status:Charged Off</td>\n",
       "    </tr>\n",
       "    <tr>\n",
       "      <th>42530</th>\n",
       "      <td>Does not meet the credit policy. Status:Fully Paid</td>\n",
       "    </tr>\n",
       "    <tr>\n",
       "      <th>42531</th>\n",
       "      <td>Does not meet the credit policy. Status:Fully Paid</td>\n",
       "    </tr>\n",
       "    <tr>\n",
       "      <th>42532</th>\n",
       "      <td>Does not meet the credit policy. Status:Fully Paid</td>\n",
       "    </tr>\n",
       "    <tr>\n",
       "      <th>42533</th>\n",
       "      <td>Does not meet the credit policy. Status:Fully Paid</td>\n",
       "    </tr>\n",
       "    <tr>\n",
       "      <th>42534</th>\n",
       "      <td>Does not meet the credit policy. Status:Fully Paid</td>\n",
       "    </tr>\n",
       "  </tbody>\n",
       "</table>\n",
       "</div>"
      ],
      "text/plain": [
       "                                               loan_status\n",
       "42449   Does not meet the credit policy. Status:Fully Paid\n",
       "42450   Does not meet the credit policy. Status:Fully Paid\n",
       "42459   Does not meet the credit policy. Status:Fully Paid\n",
       "42472   Does not meet the credit policy. Status:Fully Paid\n",
       "42480   Does not meet the credit policy. Status:Fully Paid\n",
       "42483   Does not meet the credit policy. Status:Fully Paid\n",
       "42494   Does not meet the credit policy. Status:Fully Paid\n",
       "42509   Does not meet the credit policy. Status:Fully Paid\n",
       "42514   Does not meet the credit policy. Status:Fully Paid\n",
       "42515   Does not meet the credit policy. Status:Fully Paid\n",
       "42516   Does not meet the credit policy. Status:Fully Paid\n",
       "42517   Does not meet the credit policy. Status:Fully Paid\n",
       "42518   Does not meet the credit policy. Status:Fully Paid\n",
       "42519   Does not meet the credit policy. Status:Fully Paid\n",
       "42520   Does not meet the credit policy. Status:Fully Paid\n",
       "42521  Does not meet the credit policy. Status:Charged Off\n",
       "42522   Does not meet the credit policy. Status:Fully Paid\n",
       "42523  Does not meet the credit policy. Status:Charged Off\n",
       "42524   Does not meet the credit policy. Status:Fully Paid\n",
       "42525   Does not meet the credit policy. Status:Fully Paid\n",
       "42526   Does not meet the credit policy. Status:Fully Paid\n",
       "42527   Does not meet the credit policy. Status:Fully Paid\n",
       "42528   Does not meet the credit policy. Status:Fully Paid\n",
       "42529  Does not meet the credit policy. Status:Charged Off\n",
       "42530   Does not meet the credit policy. Status:Fully Paid\n",
       "42531   Does not meet the credit policy. Status:Fully Paid\n",
       "42532   Does not meet the credit policy. Status:Fully Paid\n",
       "42533   Does not meet the credit policy. Status:Fully Paid\n",
       "42534   Does not meet the credit policy. Status:Fully Paid"
      ]
     },
     "execution_count": 95,
     "metadata": {},
     "output_type": "execute_result"
    }
   ],
   "source": [
    "pd.set_option('display.max_colwidth', None)\n",
    "loan_df.loc[indices, ['loan_status']]"
   ]
  },
  {
   "cell_type": "markdown",
   "metadata": {},
   "source": [
    "All these attributes missing at the same instances which are mostly corresponding to good credits e.g `Does not meet the credit policy. Status: Fully Paid`. \n",
    "\n",
    "If non-zero, all these attributes would imply a negative credit score and a higher probability of default. So if they are missing it is because there are either zero records on them or missing their entire credit bureau report/the credit file pull failed. Since the missingness is systematic — all missing for the same borrowers — and might carry predictive signal. For example, these borrowers might represent edge cases (e.g. new immigrants, very young borrowers, off-grid individuals). \n",
    "\n",
    "With the exception `earliest_cr_dt` variable, we will thus treat them as follows: \n",
    "\n",
    "1. Create a “missing_credit_file” indicator to flag the borrowers for whom all bureau-derived features are missing: This variable is useful and interpretable — the model can treat these borrowers separately.\n",
    "2. Impute missing numeric variables in the original variables to zero. Because if they had no credit history, zero may reflect “nothing on file.” Combined with the `missing_credit_file` flag, this gives the model both:\n",
    "\n",
    "   - A “missingness” signal (via the flag), and\n",
    "\n",
    "   - A fallback default that doesn’t crash the model."
   ]
  },
  {
   "cell_type": "code",
   "execution_count": 96,
   "metadata": {},
   "outputs": [],
   "source": [
    "# exclude \"earliest_cr_line_dt\"\n",
    "equal_miss_cols = equal_miss_cols[:-1]\n",
    "\n",
    "# if all rows are NA missing_credit_line is 1 otherwise 0\n",
    "loan_df['missing_credit_line'] = loan_df[equal_miss_cols].isnull().all(axis=1).astype(int)"
   ]
  },
  {
   "cell_type": "code",
   "execution_count": 97,
   "metadata": {},
   "outputs": [
    {
     "data": {
      "text/plain": [
       "True"
      ]
     },
     "execution_count": 97,
     "metadata": {},
     "output_type": "execute_result"
    }
   ],
   "source": [
    "# check if the indices of the new variable when it is missing (1) matches with the indices of the instances\n",
    "# of the original missing variables \n",
    "\n",
    "missing_df_new = loan_df[equal_miss_cols][loan_df[equal_miss_cols].isna().all(axis=1)]\n",
    "\n",
    "(missing_df_new.index == loan_df['missing_credit_line'][loan_df['missing_credit_line'] == 1].index).all()"
   ]
  },
  {
   "cell_type": "code",
   "execution_count": 98,
   "metadata": {},
   "outputs": [],
   "source": [
    "# Impute the missing values of the original variables with 0\n",
    "loan_df.loc[:, equal_miss_cols] = loan_df[equal_miss_cols].fillna(0)"
   ]
  },
  {
   "cell_type": "code",
   "execution_count": 99,
   "metadata": {},
   "outputs": [
    {
     "data": {
      "text/plain": [
       "delinq_2yrs       0\n",
       "inq_last_6mths    0\n",
       "open_acc          0\n",
       "pub_rec           0\n",
       "total_acc         0\n",
       "acc_now_delinq    0\n",
       "dtype: int64"
      ]
     },
     "execution_count": 99,
     "metadata": {},
     "output_type": "execute_result"
    }
   ],
   "source": [
    "loan_df[equal_miss_cols].isna().sum()"
   ]
  },
  {
   "cell_type": "code",
   "execution_count": 100,
   "metadata": {},
   "outputs": [
    {
     "data": {
      "text/plain": [
       "mths_since_last_delinq         250351\n",
       "mths_since_last_record         403647\n",
       "last_pymnt_d                      376\n",
       "last_credit_pull_d                 42\n",
       "collections_12_mths_ex_med        145\n",
       "mths_since_last_major_derog    367311\n",
       "tot_coll_amt                    70276\n",
       "tot_cur_bal                     70276\n",
       "earliest_cr_line_dt                29\n",
       "dtype: int64"
      ]
     },
     "execution_count": 100,
     "metadata": {},
     "output_type": "execute_result"
    }
   ],
   "source": [
    "loan_df.isna().sum()[loan_df.isna().sum() > 0]"
   ]
  },
  {
   "cell_type": "markdown",
   "metadata": {},
   "source": [
    "`last_pymnt_d` and `last_credit_pull_d` are not so useful indicators for how reliable a borrower is plus these variables might have data leakage issues:"
   ]
  },
  {
   "cell_type": "code",
   "execution_count": 101,
   "metadata": {},
   "outputs": [
    {
     "data": {
      "text/plain": [
       "'The most recent month LC pulled credit for this loan'"
      ]
     },
     "execution_count": 101,
     "metadata": {},
     "output_type": "execute_result"
    }
   ],
   "source": [
    "col_desc_dict['last_credit_pull_d']"
   ]
  },
  {
   "cell_type": "code",
   "execution_count": 102,
   "metadata": {},
   "outputs": [
    {
     "data": {
      "text/plain": [
       "'Last month payment was received'"
      ]
     },
     "execution_count": 102,
     "metadata": {},
     "output_type": "execute_result"
    }
   ],
   "source": [
    "col_desc_dict['last_pymnt_d']"
   ]
  },
  {
   "cell_type": "markdown",
   "metadata": {},
   "source": [
    "We will drop them!"
   ]
  },
  {
   "cell_type": "code",
   "execution_count": 103,
   "metadata": {},
   "outputs": [],
   "source": [
    "loan_df.drop(columns = ['last_pymnt_d', 'last_credit_pull_d'], inplace = True)"
   ]
  },
  {
   "cell_type": "markdown",
   "metadata": {},
   "source": [
    "- Checking `collections_12_mths_ex_med`:"
   ]
  },
  {
   "cell_type": "code",
   "execution_count": 104,
   "metadata": {},
   "outputs": [
    {
     "data": {
      "text/plain": [
       "'Number of collections in 12 months excluding medical collections'"
      ]
     },
     "execution_count": 104,
     "metadata": {},
     "output_type": "execute_result"
    }
   ],
   "source": [
    "col_desc_dict['collections_12_mths_ex_med']"
   ]
  },
  {
   "cell_type": "code",
   "execution_count": 105,
   "metadata": {},
   "outputs": [
    {
     "data": {
      "text/plain": [
       "array([ 0., nan,  1.,  2.,  4.,  3.,  6., 16., 20.,  5.])"
      ]
     },
     "execution_count": 105,
     "metadata": {},
     "output_type": "execute_result"
    }
   ],
   "source": [
    "loan_df.collections_12_mths_ex_med.unique()"
   ]
  },
  {
   "cell_type": "code",
   "execution_count": 106,
   "metadata": {},
   "outputs": [
    {
     "data": {
      "text/plain": [
       "count    466140.000000\n",
       "mean          0.009085\n",
       "std           0.108648\n",
       "min           0.000000\n",
       "25%           0.000000\n",
       "50%           0.000000\n",
       "75%           0.000000\n",
       "max          20.000000\n",
       "Name: collections_12_mths_ex_med, dtype: float64"
      ]
     },
     "execution_count": 106,
     "metadata": {},
     "output_type": "execute_result"
    }
   ],
   "source": [
    "# most values are 0 \n",
    "loan_df.collections_12_mths_ex_med.describe()"
   ]
  },
  {
   "cell_type": "code",
   "execution_count": 107,
   "metadata": {},
   "outputs": [
    {
     "data": {
      "text/plain": [
       "99.12950234298766"
      ]
     },
     "execution_count": 107,
     "metadata": {},
     "output_type": "execute_result"
    }
   ],
   "source": [
    "(loan_df.collections_12_mths_ex_med == 0).sum() / (len(loan_df)) * 100"
   ]
  },
  {
   "cell_type": "markdown",
   "metadata": {},
   "source": [
    "Almost all the instances have a zero value for `collections_12_mths_ex_med`. This predictor might still be valuable, we will keep it for now to see its relevance for the target later. Since the predictor is highly skewed distribution, we fill its NA values with its median = 0, e.g no collections!\n",
    "\n",
    "Having a second thought, if almost all the values are 0, how could the model learn? When we bin this variable later, we will see how useful it is in predicting the target class!\n"
   ]
  },
  {
   "cell_type": "code",
   "execution_count": 108,
   "metadata": {},
   "outputs": [],
   "source": [
    "loan_df.loc[:, \"collections_12_mths_ex_med\"] = loan_df[\"collections_12_mths_ex_med\"].fillna(0)"
   ]
  },
  {
   "cell_type": "code",
   "execution_count": 109,
   "metadata": {},
   "outputs": [],
   "source": [
    "non_zero_indices = loan_df.collections_12_mths_ex_med[loan_df['collections_12_mths_ex_med'] != 0].index"
   ]
  },
  {
   "cell_type": "code",
   "execution_count": 110,
   "metadata": {},
   "outputs": [
    {
     "data": {
      "text/html": [
       "<div>\n",
       "<style scoped>\n",
       "    .dataframe tbody tr th:only-of-type {\n",
       "        vertical-align: middle;\n",
       "    }\n",
       "\n",
       "    .dataframe tbody tr th {\n",
       "        vertical-align: top;\n",
       "    }\n",
       "\n",
       "    .dataframe thead th {\n",
       "        text-align: right;\n",
       "    }\n",
       "</style>\n",
       "<table border=\"1\" class=\"dataframe\">\n",
       "  <thead>\n",
       "    <tr style=\"text-align: right;\">\n",
       "      <th></th>\n",
       "      <th>collections_12_mths_ex_med</th>\n",
       "      <th>loan_status</th>\n",
       "    </tr>\n",
       "  </thead>\n",
       "  <tbody>\n",
       "    <tr>\n",
       "      <th>465174</th>\n",
       "      <td>1.0</td>\n",
       "      <td>Current</td>\n",
       "    </tr>\n",
       "    <tr>\n",
       "      <th>465278</th>\n",
       "      <td>2.0</td>\n",
       "      <td>Fully Paid</td>\n",
       "    </tr>\n",
       "    <tr>\n",
       "      <th>465390</th>\n",
       "      <td>1.0</td>\n",
       "      <td>Charged Off</td>\n",
       "    </tr>\n",
       "    <tr>\n",
       "      <th>465455</th>\n",
       "      <td>1.0</td>\n",
       "      <td>Fully Paid</td>\n",
       "    </tr>\n",
       "    <tr>\n",
       "      <th>465535</th>\n",
       "      <td>1.0</td>\n",
       "      <td>Fully Paid</td>\n",
       "    </tr>\n",
       "    <tr>\n",
       "      <th>465609</th>\n",
       "      <td>1.0</td>\n",
       "      <td>Current</td>\n",
       "    </tr>\n",
       "    <tr>\n",
       "      <th>465633</th>\n",
       "      <td>1.0</td>\n",
       "      <td>Late (16-30 days)</td>\n",
       "    </tr>\n",
       "    <tr>\n",
       "      <th>465653</th>\n",
       "      <td>1.0</td>\n",
       "      <td>Charged Off</td>\n",
       "    </tr>\n",
       "    <tr>\n",
       "      <th>465686</th>\n",
       "      <td>2.0</td>\n",
       "      <td>Current</td>\n",
       "    </tr>\n",
       "    <tr>\n",
       "      <th>465726</th>\n",
       "      <td>1.0</td>\n",
       "      <td>Current</td>\n",
       "    </tr>\n",
       "    <tr>\n",
       "      <th>465786</th>\n",
       "      <td>1.0</td>\n",
       "      <td>Charged Off</td>\n",
       "    </tr>\n",
       "    <tr>\n",
       "      <th>465808</th>\n",
       "      <td>1.0</td>\n",
       "      <td>Fully Paid</td>\n",
       "    </tr>\n",
       "    <tr>\n",
       "      <th>465843</th>\n",
       "      <td>1.0</td>\n",
       "      <td>Charged Off</td>\n",
       "    </tr>\n",
       "    <tr>\n",
       "      <th>465875</th>\n",
       "      <td>1.0</td>\n",
       "      <td>Current</td>\n",
       "    </tr>\n",
       "    <tr>\n",
       "      <th>466106</th>\n",
       "      <td>1.0</td>\n",
       "      <td>Current</td>\n",
       "    </tr>\n",
       "  </tbody>\n",
       "</table>\n",
       "</div>"
      ],
      "text/plain": [
       "        collections_12_mths_ex_med        loan_status\n",
       "465174                         1.0            Current\n",
       "465278                         2.0         Fully Paid\n",
       "465390                         1.0        Charged Off\n",
       "465455                         1.0         Fully Paid\n",
       "465535                         1.0         Fully Paid\n",
       "465609                         1.0            Current\n",
       "465633                         1.0  Late (16-30 days)\n",
       "465653                         1.0        Charged Off\n",
       "465686                         2.0            Current\n",
       "465726                         1.0            Current\n",
       "465786                         1.0        Charged Off\n",
       "465808                         1.0         Fully Paid\n",
       "465843                         1.0        Charged Off\n",
       "465875                         1.0            Current\n",
       "466106                         1.0            Current"
      ]
     },
     "execution_count": 110,
     "metadata": {},
     "output_type": "execute_result"
    }
   ],
   "source": [
    "pd.set_option('display.max_colwidth', None)\n",
    "loan_df.loc[non_zero_indices, [\"collections_12_mths_ex_med\", 'loan_status']].tail(15)"
   ]
  },
  {
   "cell_type": "markdown",
   "metadata": {},
   "source": [
    "It does appear that non-zero values would only generate noise, but we will check this statement more quantitatively later on!"
   ]
  },
  {
   "cell_type": "code",
   "execution_count": 111,
   "metadata": {},
   "outputs": [
    {
     "data": {
      "text/plain": [
       "mths_since_last_delinq         250351\n",
       "mths_since_last_record         403647\n",
       "mths_since_last_major_derog    367311\n",
       "tot_coll_amt                    70276\n",
       "tot_cur_bal                     70276\n",
       "earliest_cr_line_dt                29\n",
       "dtype: int64"
      ]
     },
     "execution_count": 111,
     "metadata": {},
     "output_type": "execute_result"
    }
   ],
   "source": [
    "loan_df.isna().sum()[loan_df.isna().sum() > 0]"
   ]
  },
  {
   "cell_type": "markdown",
   "metadata": {},
   "source": [
    "Let's focus on `tot_coll_amt`. \n",
    "\n",
    "- Total collection amount is a strong indicator of past credit distress.\n",
    "\n",
    "- Even small non-zero values (like $100–$300) can signal prior defaults."
   ]
  },
  {
   "cell_type": "code",
   "execution_count": 112,
   "metadata": {},
   "outputs": [
    {
     "data": {
      "text/plain": [
       "'Total collection amounts ever owed'"
      ]
     },
     "execution_count": 112,
     "metadata": {},
     "output_type": "execute_result"
    }
   ],
   "source": [
    "col_desc_dict['tot_coll_amt']"
   ]
  },
  {
   "cell_type": "code",
   "execution_count": 113,
   "metadata": {},
   "outputs": [
    {
     "data": {
      "text/plain": [
       "count    3.960090e+05\n",
       "mean     1.919135e+02\n",
       "std      1.463021e+04\n",
       "min      0.000000e+00\n",
       "25%      0.000000e+00\n",
       "50%      0.000000e+00\n",
       "75%      0.000000e+00\n",
       "max      9.152545e+06\n",
       "Name: tot_coll_amt, dtype: float64"
      ]
     },
     "execution_count": 113,
     "metadata": {},
     "output_type": "execute_result"
    }
   ],
   "source": [
    "loan_df.tot_coll_amt.describe()"
   ]
  },
  {
   "cell_type": "code",
   "execution_count": 114,
   "metadata": {},
   "outputs": [
    {
     "data": {
      "text/plain": [
       "74.25909047042045"
      ]
     },
     "execution_count": 114,
     "metadata": {},
     "output_type": "execute_result"
    }
   ],
   "source": [
    "# again most of the total_coll_amt is zero \n",
    "(loan_df.tot_coll_amt == 0).sum() / len(loan_df) * 100"
   ]
  },
  {
   "cell_type": "markdown",
   "metadata": {},
   "source": [
    "70K missing values probably indicate there was never collection amount owed for those instances, so we can fill the missing values with the median, i.e with 0! However, since the missing values are 15 percent or so of the total instances, the model can also benefit from a flag that indicated missing instances, this way the model may distinguish genuine zero `totl_coll_amt` values (which are 75 percent of the total) and imputed zero's some of which might not be genuine. In summary, there might be some useful information from the binary flag we may generate. "
   ]
  },
  {
   "cell_type": "code",
   "execution_count": 115,
   "metadata": {},
   "outputs": [],
   "source": [
    "# binary flag variable \n",
    "\n",
    "# Binary flag: 1 if missing, 0 otherwise\n",
    "loan_df['tot_coll_amt_missing'] = loan_df['tot_coll_amt'].isnull().astype(int)"
   ]
  },
  {
   "cell_type": "code",
   "execution_count": 116,
   "metadata": {},
   "outputs": [],
   "source": [
    "# zero is actually the median!\n",
    "loan_df.loc[:, \"tot_coll_amt\"] = loan_df[\"tot_coll_amt\"].fillna(0)"
   ]
  },
  {
   "cell_type": "markdown",
   "metadata": {},
   "source": [
    "Now, we deal with `tot_cur_bal`: Here we will do the same, first generate a binary flag variable to indicate missing instances and impute with the median!"
   ]
  },
  {
   "cell_type": "code",
   "execution_count": 117,
   "metadata": {},
   "outputs": [
    {
     "data": {
      "text/plain": [
       "'Total current balance of all accounts'"
      ]
     },
     "execution_count": 117,
     "metadata": {},
     "output_type": "execute_result"
    }
   ],
   "source": [
    "col_desc_dict['tot_cur_bal']"
   ]
  },
  {
   "cell_type": "code",
   "execution_count": 118,
   "metadata": {},
   "outputs": [
    {
     "data": {
      "text/plain": [
       "count    3.960090e+05\n",
       "mean     1.388017e+05\n",
       "std      1.521147e+05\n",
       "min      0.000000e+00\n",
       "25%      2.861800e+04\n",
       "50%      8.153900e+04\n",
       "75%      2.089530e+05\n",
       "max      8.000078e+06\n",
       "Name: tot_cur_bal, dtype: float64"
      ]
     },
     "execution_count": 118,
     "metadata": {},
     "output_type": "execute_result"
    }
   ],
   "source": [
    "loan_df.tot_cur_bal.describe()"
   ]
  },
  {
   "cell_type": "code",
   "execution_count": 119,
   "metadata": {},
   "outputs": [],
   "source": [
    "# missing flag variable\n",
    "\n",
    "loan_df['tot_cur_bal_missing'] = loan_df['tot_cur_bal'].isnull().astype(int)\n"
   ]
  },
  {
   "cell_type": "code",
   "execution_count": 120,
   "metadata": {},
   "outputs": [],
   "source": [
    "# impute the missing vals in the original variable by median of the rest\n",
    "loan_df.loc[:, \"tot_cur_bal\"] = loan_df[\"tot_cur_bal\"].fillna(loan_df[\"tot_cur_bal\"].median())"
   ]
  },
  {
   "cell_type": "code",
   "execution_count": 121,
   "metadata": {},
   "outputs": [
    {
     "data": {
      "text/plain": [
       "mths_since_last_delinq         250351\n",
       "mths_since_last_record         403647\n",
       "mths_since_last_major_derog    367311\n",
       "earliest_cr_line_dt                29\n",
       "dtype: int64"
      ]
     },
     "execution_count": 121,
     "metadata": {},
     "output_type": "execute_result"
    }
   ],
   "source": [
    "loan_df.isna().sum()[loan_df.isna().sum() > 0]"
   ]
  },
  {
   "cell_type": "markdown",
   "metadata": {},
   "source": [
    "Recall that earlier we processed two raw columns to generate their dt versions: `earliest_cr_line_dt` and `issue_d_dt`. "
   ]
  },
  {
   "cell_type": "code",
   "execution_count": 122,
   "metadata": {},
   "outputs": [
    {
     "data": {
      "text/html": [
       "<div>\n",
       "<style scoped>\n",
       "    .dataframe tbody tr th:only-of-type {\n",
       "        vertical-align: middle;\n",
       "    }\n",
       "\n",
       "    .dataframe tbody tr th {\n",
       "        vertical-align: top;\n",
       "    }\n",
       "\n",
       "    .dataframe thead th {\n",
       "        text-align: right;\n",
       "    }\n",
       "</style>\n",
       "<table border=\"1\" class=\"dataframe\">\n",
       "  <thead>\n",
       "    <tr style=\"text-align: right;\">\n",
       "      <th></th>\n",
       "      <th>earliest_cr_line_dt</th>\n",
       "      <th>issue_d_dt</th>\n",
       "    </tr>\n",
       "  </thead>\n",
       "  <tbody>\n",
       "    <tr>\n",
       "      <th>42449</th>\n",
       "      <td>NaT</td>\n",
       "      <td>2007-08-01</td>\n",
       "    </tr>\n",
       "    <tr>\n",
       "      <th>42450</th>\n",
       "      <td>NaT</td>\n",
       "      <td>2007-08-01</td>\n",
       "    </tr>\n",
       "    <tr>\n",
       "      <th>42459</th>\n",
       "      <td>NaT</td>\n",
       "      <td>2007-08-01</td>\n",
       "    </tr>\n",
       "    <tr>\n",
       "      <th>42472</th>\n",
       "      <td>NaT</td>\n",
       "      <td>2007-08-01</td>\n",
       "    </tr>\n",
       "    <tr>\n",
       "      <th>42480</th>\n",
       "      <td>NaT</td>\n",
       "      <td>2007-07-01</td>\n",
       "    </tr>\n",
       "    <tr>\n",
       "      <th>42483</th>\n",
       "      <td>NaT</td>\n",
       "      <td>2007-07-01</td>\n",
       "    </tr>\n",
       "    <tr>\n",
       "      <th>42494</th>\n",
       "      <td>NaT</td>\n",
       "      <td>2007-07-01</td>\n",
       "    </tr>\n",
       "    <tr>\n",
       "      <th>42509</th>\n",
       "      <td>NaT</td>\n",
       "      <td>2007-07-01</td>\n",
       "    </tr>\n",
       "    <tr>\n",
       "      <th>42514</th>\n",
       "      <td>NaT</td>\n",
       "      <td>2007-06-01</td>\n",
       "    </tr>\n",
       "    <tr>\n",
       "      <th>42515</th>\n",
       "      <td>NaT</td>\n",
       "      <td>2007-06-01</td>\n",
       "    </tr>\n",
       "    <tr>\n",
       "      <th>42516</th>\n",
       "      <td>NaT</td>\n",
       "      <td>2007-06-01</td>\n",
       "    </tr>\n",
       "    <tr>\n",
       "      <th>42517</th>\n",
       "      <td>NaT</td>\n",
       "      <td>2007-06-01</td>\n",
       "    </tr>\n",
       "    <tr>\n",
       "      <th>42518</th>\n",
       "      <td>NaT</td>\n",
       "      <td>2007-06-01</td>\n",
       "    </tr>\n",
       "    <tr>\n",
       "      <th>42519</th>\n",
       "      <td>NaT</td>\n",
       "      <td>2007-06-01</td>\n",
       "    </tr>\n",
       "    <tr>\n",
       "      <th>42520</th>\n",
       "      <td>NaT</td>\n",
       "      <td>2007-06-01</td>\n",
       "    </tr>\n",
       "    <tr>\n",
       "      <th>42521</th>\n",
       "      <td>NaT</td>\n",
       "      <td>2007-06-01</td>\n",
       "    </tr>\n",
       "    <tr>\n",
       "      <th>42522</th>\n",
       "      <td>NaT</td>\n",
       "      <td>2007-06-01</td>\n",
       "    </tr>\n",
       "    <tr>\n",
       "      <th>42523</th>\n",
       "      <td>NaT</td>\n",
       "      <td>2007-06-01</td>\n",
       "    </tr>\n",
       "    <tr>\n",
       "      <th>42524</th>\n",
       "      <td>NaT</td>\n",
       "      <td>2007-06-01</td>\n",
       "    </tr>\n",
       "    <tr>\n",
       "      <th>42525</th>\n",
       "      <td>NaT</td>\n",
       "      <td>2007-06-01</td>\n",
       "    </tr>\n",
       "    <tr>\n",
       "      <th>42526</th>\n",
       "      <td>NaT</td>\n",
       "      <td>2007-06-01</td>\n",
       "    </tr>\n",
       "    <tr>\n",
       "      <th>42527</th>\n",
       "      <td>NaT</td>\n",
       "      <td>2007-06-01</td>\n",
       "    </tr>\n",
       "    <tr>\n",
       "      <th>42528</th>\n",
       "      <td>NaT</td>\n",
       "      <td>2007-06-01</td>\n",
       "    </tr>\n",
       "    <tr>\n",
       "      <th>42529</th>\n",
       "      <td>NaT</td>\n",
       "      <td>2007-06-01</td>\n",
       "    </tr>\n",
       "    <tr>\n",
       "      <th>42530</th>\n",
       "      <td>NaT</td>\n",
       "      <td>2007-06-01</td>\n",
       "    </tr>\n",
       "    <tr>\n",
       "      <th>42531</th>\n",
       "      <td>NaT</td>\n",
       "      <td>2007-06-01</td>\n",
       "    </tr>\n",
       "    <tr>\n",
       "      <th>42532</th>\n",
       "      <td>NaT</td>\n",
       "      <td>2007-06-01</td>\n",
       "    </tr>\n",
       "    <tr>\n",
       "      <th>42533</th>\n",
       "      <td>NaT</td>\n",
       "      <td>2007-06-01</td>\n",
       "    </tr>\n",
       "    <tr>\n",
       "      <th>42534</th>\n",
       "      <td>NaT</td>\n",
       "      <td>2007-06-01</td>\n",
       "    </tr>\n",
       "  </tbody>\n",
       "</table>\n",
       "</div>"
      ],
      "text/plain": [
       "      earliest_cr_line_dt issue_d_dt\n",
       "42449                 NaT 2007-08-01\n",
       "42450                 NaT 2007-08-01\n",
       "42459                 NaT 2007-08-01\n",
       "42472                 NaT 2007-08-01\n",
       "42480                 NaT 2007-07-01\n",
       "42483                 NaT 2007-07-01\n",
       "42494                 NaT 2007-07-01\n",
       "42509                 NaT 2007-07-01\n",
       "42514                 NaT 2007-06-01\n",
       "42515                 NaT 2007-06-01\n",
       "42516                 NaT 2007-06-01\n",
       "42517                 NaT 2007-06-01\n",
       "42518                 NaT 2007-06-01\n",
       "42519                 NaT 2007-06-01\n",
       "42520                 NaT 2007-06-01\n",
       "42521                 NaT 2007-06-01\n",
       "42522                 NaT 2007-06-01\n",
       "42523                 NaT 2007-06-01\n",
       "42524                 NaT 2007-06-01\n",
       "42525                 NaT 2007-06-01\n",
       "42526                 NaT 2007-06-01\n",
       "42527                 NaT 2007-06-01\n",
       "42528                 NaT 2007-06-01\n",
       "42529                 NaT 2007-06-01\n",
       "42530                 NaT 2007-06-01\n",
       "42531                 NaT 2007-06-01\n",
       "42532                 NaT 2007-06-01\n",
       "42533                 NaT 2007-06-01\n",
       "42534                 NaT 2007-06-01"
      ]
     },
     "execution_count": 122,
     "metadata": {},
     "output_type": "execute_result"
    }
   ],
   "source": [
    "loan_df[[\"earliest_cr_line_dt\", \"issue_d_dt\"]][loan_df.earliest_cr_line_dt.isna() == True]"
   ]
  },
  {
   "cell_type": "code",
   "execution_count": 123,
   "metadata": {},
   "outputs": [
    {
     "data": {
      "text/plain": [
       "'The month which the loan was funded'"
      ]
     },
     "execution_count": 123,
     "metadata": {},
     "output_type": "execute_result"
    }
   ],
   "source": [
    "col_desc_dict[\"issue_d\"]"
   ]
  },
  {
   "cell_type": "code",
   "execution_count": 124,
   "metadata": {},
   "outputs": [
    {
     "data": {
      "text/plain": [
       "\"The date the borrower's earliest reported credit line was opened\""
      ]
     },
     "execution_count": 124,
     "metadata": {},
     "output_type": "execute_result"
    }
   ],
   "source": [
    "col_desc_dict[\"earliest_cr_line_dt\"]"
   ]
  },
  {
   "cell_type": "markdown",
   "metadata": {},
   "source": [
    "Since the latter is missing for those instances, we fill them with the date at which the loan was funded. "
   ]
  },
  {
   "cell_type": "code",
   "execution_count": 125,
   "metadata": {},
   "outputs": [],
   "source": [
    "filler_issue_d_df = loan_df[[\"issue_d_dt\"]][loan_df.earliest_cr_line_dt.isna() == True]\n",
    "\n",
    "missing_indices = filler_issue_d_df.index\n",
    "\n",
    "loan_df.loc[missing_indices, \"earliest_cr_line_dt\"] = filler_issue_d_df.values"
   ]
  },
  {
   "cell_type": "code",
   "execution_count": 126,
   "metadata": {},
   "outputs": [
    {
     "data": {
      "text/plain": [
       "mths_since_last_delinq         250351\n",
       "mths_since_last_record         403647\n",
       "mths_since_last_major_derog    367311\n",
       "dtype: int64"
      ]
     },
     "execution_count": 126,
     "metadata": {},
     "output_type": "execute_result"
    }
   ],
   "source": [
    "loan_df.isna().sum()[loan_df.isna().sum() > 0]"
   ]
  },
  {
   "cell_type": "markdown",
   "metadata": {},
   "source": [
    "Last three to go!: `mths_since_last_delinq`, `mths_since_last_record`, `mths_since_last_major_derog`. \n",
    "\n",
    "Since all these are negative indicators for credit, we define flag variables that checks the presence of each:"
   ]
  },
  {
   "cell_type": "code",
   "execution_count": 127,
   "metadata": {},
   "outputs": [
    {
     "data": {
      "text/plain": [
       "dtype('float64')"
      ]
     },
     "execution_count": 127,
     "metadata": {},
     "output_type": "execute_result"
    }
   ],
   "source": [
    "loan_df.mths_since_last_major_derog.dtype"
   ]
  },
  {
   "cell_type": "code",
   "execution_count": 128,
   "metadata": {},
   "outputs": [],
   "source": [
    "# non null values are 1, missing are 0\n",
    "loan_df['delinquency_missing'] = loan_df['mths_since_last_delinq'].isnull().astype(int)\n",
    "loan_df['record_missing'] = loan_df['mths_since_last_record'].isnull().astype(int)\n",
    "loan_df['major_derog_missing'] = loan_df['mths_since_last_major_derog'].isnull().astype(int)"
   ]
  },
  {
   "cell_type": "code",
   "execution_count": 129,
   "metadata": {},
   "outputs": [],
   "source": [
    "# we then fill the missing values with a large number to indicate missing may signal good credit \n",
    "# 240 months = 20 years passed since the last bad event\n",
    "loan_df.loc[:,'mths_since_last_delinq'] = loan_df['mths_since_last_delinq'].fillna(240)\n",
    "loan_df.loc[:,'mths_since_last_record'] = loan_df['mths_since_last_record'].fillna(240)\n",
    "loan_df.loc[:,'mths_since_last_major_derog'] = loan_df['mths_since_last_major_derog'].fillna(240)\n"
   ]
  },
  {
   "cell_type": "code",
   "execution_count": 130,
   "metadata": {},
   "outputs": [
    {
     "data": {
      "text/plain": [
       "Series([], dtype: int64)"
      ]
     },
     "execution_count": 130,
     "metadata": {},
     "output_type": "execute_result"
    }
   ],
   "source": [
    "# no missing vals anymore!\n",
    "loan_df.isna().sum()[loan_df.isna().sum() > 0]"
   ]
  },
  {
   "cell_type": "code",
   "execution_count": 132,
   "metadata": {},
   "outputs": [],
   "source": [
    "# save a copy of the cleaned and imputed loan data\n",
    "\n",
    "loan_df.to_csv(processed_data_dir + 'loan_data_clean_and_imputed_20(07-14).csv', index=False)"
   ]
  }
 ],
 "metadata": {
  "kernelspec": {
   "display_name": "base",
   "language": "python",
   "name": "python3"
  },
  "language_info": {
   "codemirror_mode": {
    "name": "ipython",
    "version": 3
   },
   "file_extension": ".py",
   "mimetype": "text/x-python",
   "name": "python",
   "nbconvert_exporter": "python",
   "pygments_lexer": "ipython3",
   "version": "3.10.13"
  }
 },
 "nbformat": 4,
 "nbformat_minor": 2
}
